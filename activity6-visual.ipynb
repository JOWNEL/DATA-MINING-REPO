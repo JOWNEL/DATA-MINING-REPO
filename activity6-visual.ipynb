{
 "cells": [
  {
   "cell_type": "code",
   "execution_count": 48,
   "id": "a9f573d3-88b0-462f-af2a-60ceaef30c9f",
   "metadata": {},
   "outputs": [],
   "source": [
    "import numpy as py\n",
    "import pandas as pd\n",
    "import matplotlib.pyplot as plt\n",
    "import seaborn as sns\n",
    "import warnings\n",
    "warnings.filterwarnings('ignore')"
   ]
  },
  {
   "cell_type": "code",
   "execution_count": 49,
   "id": "2013dc90-1eea-4a4e-a6f3-59595182d228",
   "metadata": {},
   "outputs": [],
   "source": [
    "den =pd.read_csv('datasets\\dengue.csv')"
   ]
  },
  {
   "cell_type": "code",
   "execution_count": 50,
   "id": "39a81fae-6ea5-476f-86de-89525596e828",
   "metadata": {},
   "outputs": [
    {
     "data": {
      "text/html": [
       "<div>\n",
       "<style scoped>\n",
       "    .dataframe tbody tr th:only-of-type {\n",
       "        vertical-align: middle;\n",
       "    }\n",
       "\n",
       "    .dataframe tbody tr th {\n",
       "        vertical-align: top;\n",
       "    }\n",
       "\n",
       "    .dataframe thead th {\n",
       "        text-align: right;\n",
       "    }\n",
       "</style>\n",
       "<table border=\"1\" class=\"dataframe\">\n",
       "  <thead>\n",
       "    <tr style=\"text-align: right;\">\n",
       "      <th></th>\n",
       "      <th>Month</th>\n",
       "      <th>Year</th>\n",
       "      <th>Region</th>\n",
       "      <th>Dengue_Cases</th>\n",
       "      <th>Dengue_Deaths</th>\n",
       "    </tr>\n",
       "  </thead>\n",
       "  <tbody>\n",
       "    <tr>\n",
       "      <th>0</th>\n",
       "      <td>January</td>\n",
       "      <td>2016</td>\n",
       "      <td>Region I</td>\n",
       "      <td>705</td>\n",
       "      <td>1</td>\n",
       "    </tr>\n",
       "    <tr>\n",
       "      <th>1</th>\n",
       "      <td>February</td>\n",
       "      <td>2016</td>\n",
       "      <td>Region I</td>\n",
       "      <td>374</td>\n",
       "      <td>0</td>\n",
       "    </tr>\n",
       "    <tr>\n",
       "      <th>2</th>\n",
       "      <td>March</td>\n",
       "      <td>2016</td>\n",
       "      <td>Region I</td>\n",
       "      <td>276</td>\n",
       "      <td>0</td>\n",
       "    </tr>\n",
       "    <tr>\n",
       "      <th>3</th>\n",
       "      <td>April</td>\n",
       "      <td>2016</td>\n",
       "      <td>Region I</td>\n",
       "      <td>240</td>\n",
       "      <td>2</td>\n",
       "    </tr>\n",
       "    <tr>\n",
       "      <th>4</th>\n",
       "      <td>May</td>\n",
       "      <td>2016</td>\n",
       "      <td>Region I</td>\n",
       "      <td>243</td>\n",
       "      <td>1</td>\n",
       "    </tr>\n",
       "    <tr>\n",
       "      <th>...</th>\n",
       "      <td>...</td>\n",
       "      <td>...</td>\n",
       "      <td>...</td>\n",
       "      <td>...</td>\n",
       "      <td>...</td>\n",
       "    </tr>\n",
       "    <tr>\n",
       "      <th>1015</th>\n",
       "      <td>August</td>\n",
       "      <td>2020</td>\n",
       "      <td>BARMM</td>\n",
       "      <td>91</td>\n",
       "      <td>0</td>\n",
       "    </tr>\n",
       "    <tr>\n",
       "      <th>1016</th>\n",
       "      <td>September</td>\n",
       "      <td>2020</td>\n",
       "      <td>BARMM</td>\n",
       "      <td>16</td>\n",
       "      <td>8</td>\n",
       "    </tr>\n",
       "    <tr>\n",
       "      <th>1017</th>\n",
       "      <td>October</td>\n",
       "      <td>2020</td>\n",
       "      <td>BARMM</td>\n",
       "      <td>13</td>\n",
       "      <td>9</td>\n",
       "    </tr>\n",
       "    <tr>\n",
       "      <th>1018</th>\n",
       "      <td>November</td>\n",
       "      <td>2020</td>\n",
       "      <td>BARMM</td>\n",
       "      <td>15</td>\n",
       "      <td>1</td>\n",
       "    </tr>\n",
       "    <tr>\n",
       "      <th>1019</th>\n",
       "      <td>December</td>\n",
       "      <td>2020</td>\n",
       "      <td>BARMM</td>\n",
       "      <td>23</td>\n",
       "      <td>0</td>\n",
       "    </tr>\n",
       "  </tbody>\n",
       "</table>\n",
       "<p>1020 rows × 5 columns</p>\n",
       "</div>"
      ],
      "text/plain": [
       "          Month  Year    Region  Dengue_Cases  Dengue_Deaths\n",
       "0       January  2016  Region I           705              1\n",
       "1      February  2016  Region I           374              0\n",
       "2         March  2016  Region I           276              0\n",
       "3         April  2016  Region I           240              2\n",
       "4           May  2016  Region I           243              1\n",
       "...         ...   ...       ...           ...            ...\n",
       "1015     August  2020     BARMM            91              0\n",
       "1016  September  2020     BARMM            16              8\n",
       "1017    October  2020     BARMM            13              9\n",
       "1018   November  2020     BARMM            15              1\n",
       "1019   December  2020     BARMM            23              0\n",
       "\n",
       "[1020 rows x 5 columns]"
      ]
     },
     "execution_count": 50,
     "metadata": {},
     "output_type": "execute_result"
    }
   ],
   "source": [
    "den"
   ]
  },
  {
   "cell_type": "code",
   "execution_count": null,
   "id": "2f7854c1-5a71-4d3c-b468-43152bdbaf22",
   "metadata": {},
   "outputs": [],
   "source": []
  },
  {
   "cell_type": "code",
   "execution_count": 51,
   "id": "74aa19c8-49cc-4b9f-82e0-704806b5eea3",
   "metadata": {},
   "outputs": [
    {
     "data": {
      "text/plain": [
       "Month            object\n",
       "Year              int64\n",
       "Region           object\n",
       "Dengue_Cases      int64\n",
       "Dengue_Deaths     int64\n",
       "dtype: object"
      ]
     },
     "execution_count": 51,
     "metadata": {},
     "output_type": "execute_result"
    }
   ],
   "source": [
    "den.dtypes\n"
   ]
  },
  {
   "cell_type": "code",
   "execution_count": null,
   "id": "f9dde6eb-19e1-4117-a6b9-a68bf57ace56",
   "metadata": {},
   "outputs": [],
   "source": []
  },
  {
   "cell_type": "code",
   "execution_count": null,
   "id": "58435578-6a17-48b8-8cfd-56a7738bfe26",
   "metadata": {},
   "outputs": [],
   "source": []
  },
  {
   "cell_type": "code",
   "execution_count": 52,
   "id": "add6241f-8679-4e51-a25f-a5ea899ecec8",
   "metadata": {},
   "outputs": [
    {
     "data": {
      "text/plain": [
       "Month            object\n",
       "Year              int64\n",
       "Region           object\n",
       "Dengue_Cases      int64\n",
       "Dengue_Deaths     int64\n",
       "dtype: object"
      ]
     },
     "execution_count": 52,
     "metadata": {},
     "output_type": "execute_result"
    }
   ],
   "source": [
    "den.dtypes"
   ]
  },
  {
   "cell_type": "code",
   "execution_count": 53,
   "id": "bca49307-45e1-4b4a-8689-b9dacd2e9b7e",
   "metadata": {},
   "outputs": [
    {
     "data": {
      "text/plain": [
       "Month            0\n",
       "Year             0\n",
       "Region           0\n",
       "Dengue_Cases     0\n",
       "Dengue_Deaths    0\n",
       "dtype: int64"
      ]
     },
     "execution_count": 53,
     "metadata": {},
     "output_type": "execute_result"
    }
   ],
   "source": [
    "den.isnull().sum()"
   ]
  },
  {
   "cell_type": "code",
   "execution_count": 54,
   "id": "212fdfce-dcb9-4e13-9f98-550ba445ec7f",
   "metadata": {},
   "outputs": [
    {
     "name": "stdout",
     "output_type": "stream",
     "text": [
      "<class 'pandas.core.frame.DataFrame'>\n",
      "RangeIndex: 1020 entries, 0 to 1019\n",
      "Data columns (total 5 columns):\n",
      " #   Column         Non-Null Count  Dtype \n",
      "---  ------         --------------  ----- \n",
      " 0   Month          1020 non-null   object\n",
      " 1   Year           1020 non-null   int64 \n",
      " 2   Region         1020 non-null   object\n",
      " 3   Dengue_Cases   1020 non-null   int64 \n",
      " 4   Dengue_Deaths  1020 non-null   int64 \n",
      "dtypes: int64(3), object(2)\n",
      "memory usage: 40.0+ KB\n"
     ]
    }
   ],
   "source": [
    "den.info()"
   ]
  },
  {
   "cell_type": "markdown",
   "id": "69077408-e1e1-41be-b8f3-ba5711fcf6da",
   "metadata": {},
   "source": [
    "<h1>1. Region of with the highest dengue cases<h1>"
   ]
  },
  {
   "cell_type": "code",
   "execution_count": null,
   "id": "8a4de96a-e6d8-4b86-b0a0-57416d6befce",
   "metadata": {},
   "outputs": [],
   "source": []
  },
  {
   "cell_type": "code",
   "execution_count": null,
   "id": "9045d41d-96a1-4a81-a334-f6c4bcc5a2b9",
   "metadata": {},
   "outputs": [],
   "source": []
  },
  {
   "cell_type": "code",
   "execution_count": 55,
   "id": "9068b4c1-5e21-488b-acd6-438730f1432a",
   "metadata": {},
   "outputs": [
    {
     "data": {
      "image/png": "[encoded data removed]",
      "text/plain": [
       "<Figure size 1000x600 with 1 Axes>"
      ]
     },
     "metadata": {},
     "output_type": "display_data"
    }
   ],
   "source": [
    "high_cases= den.groupby('Region')['Dengue_Cases'].sum().max()\n",
    "region_cases = den.groupby('Region')['Dengue_Cases'].sum().sort_values(ascending=False)\n",
    "\n",
    "\n",
    "plt.figure(figsize=(10,6))\n",
    "sns.barplot(x=region_cases.values, y=region_cases.index, palette='Reds_r')\n",
    "\n",
    "plt.title('Total Dengue Cases per Region')\n",
    "plt.xlabel('Total Dengue Cases')\n",
    "plt.ylabel('Region')\n",
    "plt.show()\n"
   ]
  },
  {
   "cell_type": "code",
   "execution_count": null,
   "id": "de7fc6a8-48d1-4e9b-a58a-c6ecd62954e5",
   "metadata": {},
   "outputs": [],
   "source": []
  },
  {
   "cell_type": "code",
   "execution_count": null,
   "id": "a41c85a6-f043-4bf2-8b54-0281801a2d8a",
   "metadata": {},
   "outputs": [],
   "source": []
  },
  {
   "cell_type": "code",
   "execution_count": null,
   "id": "ec717a9c-0e65-483b-9fea-54509210e311",
   "metadata": {},
   "outputs": [],
   "source": []
  },
  {
   "cell_type": "code",
   "execution_count": null,
   "id": "960cc50b-6ae8-475f-a88a-b1578e345a6f",
   "metadata": {},
   "outputs": [],
   "source": []
  },
  {
   "cell_type": "code",
   "execution_count": null,
   "id": "49468304-da56-4a15-9da2-0509e58a3e9c",
   "metadata": {},
   "outputs": [],
   "source": []
  },
  {
   "cell_type": "code",
   "execution_count": null,
   "id": "036afa5c-148a-48d5-8d71-d9757644707f",
   "metadata": {},
   "outputs": [],
   "source": []
  },
  {
   "cell_type": "code",
   "execution_count": null,
   "id": "0d0f8126-6354-4010-a41e-dd1280d1e9b7",
   "metadata": {},
   "outputs": [],
   "source": []
  },
  {
   "cell_type": "code",
   "execution_count": null,
   "id": "9cde62be-90db-42d7-80be-4719013225e5",
   "metadata": {},
   "outputs": [],
   "source": []
  },
  {
   "cell_type": "code",
   "execution_count": 56,
   "id": "08ed315d-a5dd-4707-9e63-d020808facf8",
   "metadata": {},
   "outputs": [
    {
     "ename": "NameError",
     "evalue": "name 'region_high' is not defined",
     "output_type": "error",
     "traceback": [
      "\u001b[1;31m---------------------------------------------------------------------------\u001b[0m",
      "\u001b[1;31mNameError\u001b[0m                                 Traceback (most recent call last)",
      "Cell \u001b[1;32mIn[56], line 1\u001b[0m\n\u001b[1;32m----> 1\u001b[0m \u001b[38;5;28mprint\u001b[39m(\u001b[43mregion_high\u001b[49m,high_cases)\n",
      "\u001b[1;31mNameError\u001b[0m: name 'region_high' is not defined"
     ]
    }
   ],
   "source": []
  },
  {
   "cell_type": "markdown",
   "id": "ac528d9e-4380-41ca-9773-04c5ba8acdce",
   "metadata": {},
   "source": [
    "<h1>2. Dengue Cases Per Region Highest and Lowest</h1>"
   ]
  },
  {
   "cell_type": "code",
   "execution_count": null,
   "id": "b4784001-1d64-4c67-9b6b-268fce1f46ad",
   "metadata": {},
   "outputs": [],
   "source": []
  },
  {
   "cell_type": "code",
   "execution_count": null,
   "id": "47129f35-2b8d-4a06-b442-3e3531983ac9",
   "metadata": {},
   "outputs": [],
   "source": [
    "region_compare = den.groupby('Region')[['Dengue_Cases']].sum().reset_index()\n",
    "region_compare = region_compare.sort_values(by='Dengue_Cases', ascending=False)\n",
    "region_compare.head(5), region_compare.tail(5)\n"
   ]
  },
  {
   "cell_type": "code",
   "execution_count": null,
   "id": "2a911ac9-c111-496c-8508-7b683466b3d4",
   "metadata": {},
   "outputs": [],
   "source": [
    "top_5 = region_compare.head(5)\n",
    "bottom_5 = region_compare.tail(5)\n",
    "\n",
    "# Create figure\n",
    "plt.figure(figsize=(12,6))\n",
    "\n",
    "# Plot top 5 regions in red\n",
    "sns.barplot(x=top_5['Dengue_Cases'], y=top_5['Region'], palette='Reds', label=\"Top 5 Regions\")\n",
    "\n",
    "# Plot bottom 5 regions in blue\n",
    "sns.barplot(x=bottom_5['Dengue_Cases'], y=bottom_5['Region'], palette='Blues', label=\"Bottom 5 Regions\")\n",
    "\n",
    "# Titles & Labels\n",
    "plt.title('Top 5 vs Bottom 5 Dengue Cases per Region')\n",
    "plt.xlabel('Total Dengue Cases')\n",
    "plt.ylabel('Region')\n",
    "\n",
    "\n",
    "# Show the plot\n",
    "plt.show()"
   ]
  },
  {
   "cell_type": "code",
   "execution_count": null,
   "id": "f92d3719-9b30-4f15-80e1-46d39ac993d2",
   "metadata": {},
   "outputs": [],
   "source": []
  },
  {
   "cell_type": "code",
   "execution_count": null,
   "id": "14950d1d-19f3-4b89-b1a2-cfae01d8b06b",
   "metadata": {},
   "outputs": [],
   "source": []
  },
  {
   "cell_type": "code",
   "execution_count": null,
   "id": "58ca316c-31e9-4405-8bd8-ee79e61e3994",
   "metadata": {},
   "outputs": [],
   "source": []
  },
  {
   "cell_type": "code",
   "execution_count": null,
   "id": "7109fda4-a6f8-4d17-a134-451fc70d8882",
   "metadata": {},
   "outputs": [],
   "source": []
  },
  {
   "cell_type": "code",
   "execution_count": null,
   "id": "31f0c034-eac8-45f1-abcc-63233ee01511",
   "metadata": {},
   "outputs": [],
   "source": []
  },
  {
   "cell_type": "code",
   "execution_count": null,
   "id": "5dc4bfc8-b33f-493e-b13f-83378454773f",
   "metadata": {},
   "outputs": [],
   "source": []
  },
  {
   "cell_type": "markdown",
   "id": "687a373c-ba60-4fbb-8fec-9a37ada2710e",
   "metadata": {},
   "source": [
    "<h1>3. Top 5 region with the most dengue deaths</h1>"
   ]
  },
  {
   "cell_type": "code",
   "execution_count": null,
   "id": "01e762bc-4a46-413d-a639-452c46a540af",
   "metadata": {},
   "outputs": [],
   "source": [
    "top5= den.groupby('Region')[['Dengue_Deaths']].sum().reset_index()\n",
    "top5=top5.sort_values(by='Dengue_Deaths',ascending=False).head(5)"
   ]
  },
  {
   "cell_type": "code",
   "execution_count": null,
   "id": "4e791c0a-0a97-41db-9c29-8182e225b673",
   "metadata": {},
   "outputs": [],
   "source": []
  },
  {
   "cell_type": "code",
   "execution_count": null,
   "id": "1e33146d-f6a0-4770-bd74-35be6f47ad1d",
   "metadata": {},
   "outputs": [],
   "source": [
    "top5"
   ]
  },
  {
   "cell_type": "code",
   "execution_count": null,
   "id": "8f33fbe8-c263-43b0-8262-290e515f82bb",
   "metadata": {},
   "outputs": [],
   "source": []
  },
  {
   "cell_type": "code",
   "execution_count": null,
   "id": "9995e5db-705b-4871-a633-69f1d723e4e8",
   "metadata": {},
   "outputs": [],
   "source": [
    "plt.figure(figsize=(10,6))\n",
    "sns.barplot(x=top5['Dengue_Deaths'], y=top5['Region'], palette='Reds_r')\n",
    "\n",
    "plt.title('Top 5 Regions with Highest Dengue Deaths')\n",
    "plt.xlabel('Total Dengue Deaths')\n",
    "plt.ylabel('Region')\n",
    "plt.show()"
   ]
  },
  {
   "cell_type": "code",
   "execution_count": null,
   "id": "7e05a25d-e8c3-4c54-bc88-21d4ec3caf3f",
   "metadata": {},
   "outputs": [],
   "source": []
  },
  {
   "cell_type": "code",
   "execution_count": null,
   "id": "e6e0ec5d-2d86-4a71-a0f7-dc6be320f34b",
   "metadata": {},
   "outputs": [],
   "source": []
  },
  {
   "cell_type": "markdown",
   "id": "5530630f-50f1-4079-906e-51ee36a3c7cd",
   "metadata": {},
   "source": [
    "<h1>3. Yearly Dengue Cases Increasing or Not?</h1>"
   ]
  },
  {
   "cell_type": "code",
   "execution_count": null,
   "id": "98b674f8-0327-4587-b82d-21d66b5cee10",
   "metadata": {},
   "outputs": [],
   "source": [
    "yearly=den.groupby('Year')[['Dengue_Cases']].sum().reset_index()\n",
    "yearly"
   ]
  },
  {
   "cell_type": "code",
   "execution_count": null,
   "id": "91d6b1b3-47fc-42aa-afed-cfb3328fec1c",
   "metadata": {},
   "outputs": [],
   "source": []
  },
  {
   "cell_type": "code",
   "execution_count": null,
   "id": "996efb36-5871-490a-835c-042f1451e7ac",
   "metadata": {},
   "outputs": [],
   "source": [
    "plt.figure(figsize=(10,6))\n",
    "sns.lineplot(x=yearly['Year'], y=yearly['Dengue_Cases'], marker='o', linestyle='-')\n",
    "\n",
    "plt.title('Dengue Cases Over the Years')\n",
    "plt.xlabel('Year')\n",
    "plt.ylabel('Total Dengue Cases')\n",
    "plt.grid(True)\n",
    "plt.xticks(rotation=45)\n",
    "plt.show()"
   ]
  },
  {
   "cell_type": "code",
   "execution_count": null,
   "id": "6d35f6bd-0862-4f69-9efd-d5688d2a5df9",
   "metadata": {},
   "outputs": [],
   "source": []
  },
  {
   "cell_type": "code",
   "execution_count": null,
   "id": "0bf54826-c2b9-4d61-a10e-af1063439ab1",
   "metadata": {},
   "outputs": [],
   "source": []
  },
  {
   "cell_type": "code",
   "execution_count": null,
   "id": "4783ae47-83bb-4ad4-adc6-bf675f792d11",
   "metadata": {},
   "outputs": [],
   "source": []
  },
  {
   "cell_type": "markdown",
   "id": "de0c5989-b4a8-483e-be95-b38e55b306a3",
   "metadata": {},
   "source": [
    "<h1>4. Top 5 Regions with lowest Dengue Deaths</h1>"
   ]
  },
  {
   "cell_type": "code",
   "execution_count": null,
   "id": "78047297-3342-46a2-847d-44deceb36ab8",
   "metadata": {},
   "outputs": [],
   "source": []
  },
  {
   "cell_type": "code",
   "execution_count": null,
   "id": "40a79faa-1fa4-4f6d-b1b5-8cac667ffe2d",
   "metadata": {},
   "outputs": [],
   "source": [
    "high=den.groupby('Region')[['Dengue_Deaths']].sum().reset_index()\n",
    "high=high.sort_values(by='Dengue_Deaths',ascending=True).head(5)\n",
    "\n",
    "(high)"
   ]
  },
  {
   "cell_type": "code",
   "execution_count": null,
   "id": "482a00d1-7855-4ab2-9581-bcd91259b0ee",
   "metadata": {},
   "outputs": [],
   "source": []
  },
  {
   "cell_type": "code",
   "execution_count": null,
   "id": "950599dd-22da-40fa-b9fc-0ada4cc124c2",
   "metadata": {},
   "outputs": [],
   "source": [
    "plt.figure(figsize=(10,6))\n",
    "sns.barplot(x=high['Dengue_Deaths'], y=high['Region'], palette='Blues_r')\n",
    "\n",
    "plt.title('Bottom 5 Regions with Lowest Dengue Deaths')\n",
    "plt.xlabel('Total Dengue Deaths')\n",
    "plt.ylabel('Region')\n",
    "plt.show()"
   ]
  },
  {
   "cell_type": "code",
   "execution_count": null,
   "id": "f93b901c-dede-49d0-9643-36c5b7f010af",
   "metadata": {},
   "outputs": [],
   "source": []
  },
  {
   "cell_type": "code",
   "execution_count": null,
   "id": "8770940c-6bc5-4181-9865-5fbe7db5f237",
   "metadata": {},
   "outputs": [],
   "source": []
  },
  {
   "cell_type": "markdown",
   "id": "d0f01104-a8cb-455a-98b2-d751552eb449",
   "metadata": {},
   "source": [
    "<h1>5. Fatality rate of the top 3 most affected regions over the years</h1>"
   ]
  },
  {
   "cell_type": "code",
   "execution_count": null,
   "id": "061ab1a1-b0a6-4813-93de-029e797e84b0",
   "metadata": {},
   "outputs": [],
   "source": [
    "top3=den.groupby('Region')['Dengue_Cases'].sum().nlargest(3).index\n",
    "\n",
    "top_fatal= den[den['Region'].isin(top3)]\n",
    "\n",
    "top_fatal=den.groupby(['Year','Region']).sum()[['Dengue_Cases','Dengue_Deaths']].reset_index()\n",
    "top_fatal['Fatality Rate(%)']=(top_fatal['Dengue_Deaths'] / top_fatal['Dengue_Cases'])\n",
    "\n",
    "top_fatal\n",
    "\n"
   ]
  },
  {
   "cell_type": "code",
   "execution_count": null,
   "id": "fe56ca83-e120-46e8-8e18-d11700e4d62d",
   "metadata": {},
   "outputs": [],
   "source": []
  },
  {
   "cell_type": "code",
   "execution_count": null,
   "id": "2ca8f0e8-c5bc-465b-9b60-667a16787ddc",
   "metadata": {},
   "outputs": [],
   "source": [
    "plt.figure(figsize=(12,6))\n",
    "\n",
    "# Plot fatality rate for each top 3 region\n",
    "for region in top3:\n",
    "    data = top_fatal[top_fatal['Region'] == region]\n",
    "    plt.plot(data['Year'], data['Fatality Rate(%)'], marker='o', linestyle='-', label=region)\n",
    "\n",
    "plt.title('Fatality Rate Over the Years for Top 3 Regions')\n",
    "plt.xlabel('Year')\n",
    "plt.ylabel('Fatality Rate (%)')\n",
    "plt.legend()\n",
    "plt.grid(True)\n",
    "plt.show()"
   ]
  },
  {
   "cell_type": "code",
   "execution_count": null,
   "id": "7e679d8c-8a51-4dce-bece-50615db164df",
   "metadata": {},
   "outputs": [],
   "source": []
  },
  {
   "cell_type": "markdown",
   "id": "28bd3681-138a-45ca-99f6-8989b2b6070e",
   "metadata": {},
   "source": [
    "<h1>6. Top 5 regions with the most dengue cases</h1>"
   ]
  },
  {
   "cell_type": "code",
   "execution_count": null,
   "id": "7a04c404-8605-4300-ad00-713aba84edf1",
   "metadata": {},
   "outputs": [],
   "source": []
  },
  {
   "cell_type": "code",
   "execution_count": null,
   "id": "1eb10481-1488-4366-bda5-a5f884edc5e9",
   "metadata": {},
   "outputs": [],
   "source": [
    "top_c= den.groupby('Region')['Dengue_Cases'].sum().nlargest(5)\n",
    "top_c"
   ]
  },
  {
   "cell_type": "code",
   "execution_count": null,
   "id": "d7eaaba5-7c21-4e39-a5b8-fb1ff09954bf",
   "metadata": {},
   "outputs": [],
   "source": [
    "plt.figure(figsize=(8,8))\n",
    "plt.pie(top_c, labels=top_c.index, autopct='%1.1f%%', colors=['red', 'orange', 'yellow', 'pink', 'brown'])\n",
    "plt.title('Proportion of Dengue Cases in Top 5 Regions')\n",
    "plt.show()"
   ]
  },
  {
   "cell_type": "code",
   "execution_count": null,
   "id": "96dba459-38a5-4116-b632-74ec539c817e",
   "metadata": {},
   "outputs": [],
   "source": []
  },
  {
   "cell_type": "code",
   "execution_count": null,
   "id": "4beb0e93-e53b-4309-b657-7fe2e33a814e",
   "metadata": {},
   "outputs": [],
   "source": []
  },
  {
   "cell_type": "markdown",
   "id": "c2eeda1a-9d4d-4f81-ab5d-24027b08e8ba",
   "metadata": {},
   "source": [
    "<h1>7. What is overall fatality rate per region?</h1>"
   ]
  },
  {
   "cell_type": "code",
   "execution_count": null,
   "id": "0f2ddcc5-8a05-481d-b73b-8ce08a68e2d1",
   "metadata": {},
   "outputs": [],
   "source": [
    "fatal= den.groupby('Region').sum()[['Dengue_Cases','Dengue_Deaths']]\n",
    "fatal['Fatality Rate (%)'] = (fatal['Dengue_Deaths'] / fatal['Dengue_Cases']) * 100\n",
    "fatal\n"
   ]
  },
  {
   "cell_type": "code",
   "execution_count": null,
   "id": "467ae54c-c0d9-45df-8a4d-d1db7c90ee0f",
   "metadata": {},
   "outputs": [],
   "source": [
    "plt.figure(figsize=(10,6))\n",
    "sns.scatterplot(x=fatal['Dengue_Cases'], y=fatal['Fatality Rate (%)'], hue=fatal.index, s=100, palette='coolwarm')\n",
    "\n",
    "plt.title('Fatality Rate vs. Dengue Cases by Region')\n",
    "plt.xlabel('Total Dengue Cases')\n",
    "plt.ylabel('Fatality Rate (%)')\n",
    "plt.grid(True)\n",
    "plt.show()"
   ]
  },
  {
   "cell_type": "code",
   "execution_count": null,
   "id": "6f8b8b17-52c7-4f68-bcf6-ea09c76346a0",
   "metadata": {},
   "outputs": [],
   "source": []
  },
  {
   "cell_type": "code",
   "execution_count": null,
   "id": "b652491e-dce2-41d6-9dfc-4aa7af54b330",
   "metadata": {},
   "outputs": [],
   "source": []
  },
  {
   "cell_type": "markdown",
   "id": "7e80c5e7-d0aa-48e1-b15b-3b8efa519550",
   "metadata": {},
   "source": [
    "<h1>8. How many Dengue cases were reported Each Year?</h1>"
   ]
  },
  {
   "cell_type": "code",
   "execution_count": null,
   "id": "d354be2e-1f09-4d15-915f-08cc04ebd37b",
   "metadata": {},
   "outputs": [],
   "source": [
    "year = den.groupby('Year')['Dengue_Cases'].sum()\n",
    "year"
   ]
  },
  {
   "cell_type": "code",
   "execution_count": null,
   "id": "58181ca4-8a8e-4d8b-8ff2-bca62bc68070",
   "metadata": {},
   "outputs": [],
   "source": []
  },
  {
   "cell_type": "code",
   "execution_count": null,
   "id": "015df1ba-e60f-4bd2-ab39-8408d9aa3c6f",
   "metadata": {},
   "outputs": [],
   "source": []
  },
  {
   "cell_type": "code",
   "execution_count": null,
   "id": "68506190-36d3-4acb-861a-394615ad0f3b",
   "metadata": {},
   "outputs": [],
   "source": [
    "plt.figure(figsize=(10,6))\n",
    "plt.plot(year.index, year.values, marker='o', linestyle='-', color='red')\n",
    "\n",
    "plt.title('Yearly Dengue Cases Trend')\n",
    "plt.xlabel('Year')\n",
    "plt.ylabel('Total Dengue Cases')\n",
    "plt.grid(True)\n",
    "plt.xticks(rotation=45)  # Rotate x-axis for readability\n",
    "plt.show()\n",
    "\n"
   ]
  },
  {
   "cell_type": "code",
   "execution_count": null,
   "id": "3b13d1d1-6a2f-4d16-a358-b983f056e40d",
   "metadata": {},
   "outputs": [],
   "source": []
  },
  {
   "cell_type": "code",
   "execution_count": null,
   "id": "c7861463-995f-4139-b0f4-6153cf2f0461",
   "metadata": {},
   "outputs": [],
   "source": []
  },
  {
   "cell_type": "code",
   "execution_count": null,
   "id": "3446a1d5-050f-42eb-bb2f-d624e1ff9039",
   "metadata": {},
   "outputs": [],
   "source": []
  },
  {
   "cell_type": "code",
   "execution_count": null,
   "id": "d51a4ed9-f3c0-4345-8f2f-5329b6d30077",
   "metadata": {},
   "outputs": [],
   "source": []
  },
  {
   "cell_type": "code",
   "execution_count": null,
   "id": "2998e1ff-f5e1-46b9-b09d-4209e644d1af",
   "metadata": {},
   "outputs": [],
   "source": []
  },
  {
   "cell_type": "markdown",
   "id": "47e59f91-5372-4962-a604-42d624ba8b31",
   "metadata": {},
   "source": [
    "<h1>9. What are the worst dengue months?</h1>"
   ]
  },
  {
   "cell_type": "code",
   "execution_count": null,
   "id": "7225bf91-24be-4eff-a7d8-84ab2ab8e7be",
   "metadata": {},
   "outputs": [],
   "source": [
    "month= den.groupby('Month')['Dengue_Cases'].sum().sort_values(ascending=False)\n",
    "month"
   ]
  },
  {
   "cell_type": "code",
   "execution_count": null,
   "id": "7e4daf90-e3cb-462b-a8af-1158459c9cf2",
   "metadata": {},
   "outputs": [],
   "source": []
  },
  {
   "cell_type": "code",
   "execution_count": null,
   "id": "70e5f137-f28a-4afa-9e1a-0af5748ab2da",
   "metadata": {},
   "outputs": [],
   "source": [
    "plt.figure(figsize=(12,6))\n",
    "sns.barplot(x=month.index, y=month.values, palette='Reds_r')\n",
    "\n",
    "plt.title('Total Dengue Cases Per Month')\n",
    "plt.xlabel('Month')\n",
    "plt.ylabel('Total Dengue Cases')\n",
    "plt.show()"
   ]
  },
  {
   "cell_type": "code",
   "execution_count": null,
   "id": "db6871a6-4dd4-4598-8847-7a123761a19e",
   "metadata": {},
   "outputs": [],
   "source": []
  },
  {
   "cell_type": "code",
   "execution_count": null,
   "id": "6ef34f4c-adf8-4412-8d63-f5890ea4cec8",
   "metadata": {},
   "outputs": [],
   "source": []
  },
  {
   "cell_type": "code",
   "execution_count": null,
   "id": "cea8323f-c9bf-4101-bcdd-ba41fd0b4ae9",
   "metadata": {},
   "outputs": [],
   "source": []
  },
  {
   "cell_type": "code",
   "execution_count": null,
   "id": "3b560563-c245-4f1b-8cbf-886f3c59fee4",
   "metadata": {},
   "outputs": [],
   "source": []
  },
  {
   "cell_type": "markdown",
   "id": "1026793d-279d-4648-8d61-2b27cdfb1349",
   "metadata": {},
   "source": [
    "<h1>10. is there a correlation between dengue cases and deaths?</h1>"
   ]
  },
  {
   "cell_type": "code",
   "execution_count": null,
   "id": "12d3f65c-16ab-4c4e-b582-587022d79789",
   "metadata": {},
   "outputs": [],
   "source": [
    "corr = den['Dengue_Cases'].corr(den['Dengue_Deaths'])\n",
    "corr"
   ]
  },
  {
   "cell_type": "code",
   "execution_count": null,
   "id": "5a43f671-d3d8-47e2-a7f8-f99d29ea9587",
   "metadata": {},
   "outputs": [],
   "source": [
    "plt.figure(figsize=(8,6))\n",
    "sns.scatterplot(x=den['Dengue_Cases'], y=den['Dengue_Deaths'], alpha=0.6, color='red')\n",
    "\n",
    "plt.title('Correlation Between Dengue Cases and Deaths')\n",
    "plt.xlabel('Dengue Cases')\n",
    "plt.ylabel('Dengue Deaths')\n",
    "plt.grid(True)\n",
    "plt.show()"
   ]
  },
  {
   "cell_type": "code",
   "execution_count": null,
   "id": "5bd8508a-460c-4390-8b0d-ff68bdff938e",
   "metadata": {},
   "outputs": [],
   "source": []
  },
  {
   "cell_type": "code",
   "execution_count": null,
   "id": "35152c46-7b07-42f4-a082-a31208f0af1b",
   "metadata": {},
   "outputs": [],
   "source": []
  },
  {
   "cell_type": "code",
   "execution_count": null,
   "id": "3d99e0c4-50d7-41f7-9fcc-a2743f894c27",
   "metadata": {},
   "outputs": [],
   "source": []
  },
  {
   "cell_type": "code",
   "execution_count": null,
   "id": "eef7507c-356c-4557-aa73-05a4b6b78bd8",
   "metadata": {},
   "outputs": [],
   "source": []
  },
  {
   "cell_type": "code",
   "execution_count": null,
   "id": "0f0b2208-b901-4130-9289-0faea91cd3ea",
   "metadata": {},
   "outputs": [],
   "source": []
  },
  {
   "cell_type": "code",
   "execution_count": null,
   "id": "d3b4002e-e676-45aa-b162-9a893e4cd1f1",
   "metadata": {},
   "outputs": [],
   "source": []
  },
  {
   "cell_type": "code",
   "execution_count": null,
   "id": "2ed6355f-1ec0-45d3-a66c-0e4c9bb6e1bc",
   "metadata": {},
   "outputs": [],
   "source": []
  },
  {
   "cell_type": "code",
   "execution_count": null,
   "id": "cc4c67b0-85e4-444d-a004-bdf676afee75",
   "metadata": {},
   "outputs": [],
   "source": []
  },
  {
   "cell_type": "code",
   "execution_count": null,
   "id": "eb55fc9a-6347-4399-9167-bc71ac03b71a",
   "metadata": {},
   "outputs": [],
   "source": []
  },
  {
   "cell_type": "markdown",
   "id": "f62f3ec0-3669-4076-b041-82fd33f26cf3",
   "metadata": {},
   "source": [
    "<h1>11. Which regions have the most consistent dengue cases?</h1>"
   ]
  },
  {
   "cell_type": "code",
   "execution_count": null,
   "id": "c3498103-b139-48fa-b809-c3e29ded0fd4",
   "metadata": {},
   "outputs": [],
   "source": []
  },
  {
   "cell_type": "code",
   "execution_count": null,
   "id": "25e5fb61-d679-43b4-8b34-e2b60e9b8bde",
   "metadata": {},
   "outputs": [],
   "source": []
  },
  {
   "cell_type": "code",
   "execution_count": null,
   "id": "815b5a2e-a4da-467a-8e2a-1f3fb0c5d2fc",
   "metadata": {},
   "outputs": [],
   "source": [
    "reg= den.groupby('Region')['Dengue_Cases'].std().sort_values()\n",
    "reg"
   ]
  },
  {
   "cell_type": "code",
   "execution_count": null,
   "id": "30412c73-0d5c-4310-b619-9c6eebc178cb",
   "metadata": {},
   "outputs": [],
   "source": []
  },
  {
   "cell_type": "code",
   "execution_count": null,
   "id": "dcd7869f-df24-4473-b5a9-42d35ad751ac",
   "metadata": {},
   "outputs": [],
   "source": []
  },
  {
   "cell_type": "code",
   "execution_count": null,
   "id": "a1a5b350-01d2-4fe6-8d04-8252bb75f1a1",
   "metadata": {},
   "outputs": [],
   "source": [
    "plt.figure(figsize=(12,6))\n",
    "sns.barplot(x=reg.values ,y=reg.index , palette='viridis')\n",
    "plt.title('regions have the most consistent dengue cases')\n",
    "plt.show()"
   ]
  },
  {
   "cell_type": "code",
   "execution_count": null,
   "id": "fa816e33-0f9a-4873-8f6e-b843708569f4",
   "metadata": {},
   "outputs": [],
   "source": []
  },
  {
   "cell_type": "code",
   "execution_count": null,
   "id": "9a295f13-143b-4003-bdac-1595dd5f84de",
   "metadata": {},
   "outputs": [],
   "source": []
  },
  {
   "cell_type": "code",
   "execution_count": null,
   "id": "b31418e5-d9f1-4ec1-8c43-6389bc91f932",
   "metadata": {},
   "outputs": [],
   "source": []
  },
  {
   "cell_type": "code",
   "execution_count": null,
   "id": "893901b8-9476-4fd7-b4c9-f9044bb5c6b1",
   "metadata": {},
   "outputs": [],
   "source": []
  },
  {
   "cell_type": "code",
   "execution_count": null,
   "id": "7fe74259-6d9a-4b13-ada7-34d21a16a307",
   "metadata": {},
   "outputs": [],
   "source": []
  },
  {
   "cell_type": "markdown",
   "id": "dc23443b-1b94-4ec4-b518-584fcec3583a",
   "metadata": {},
   "source": [
    "<h1>12. Which region had the highest and lowest dengue cases?</h1>"
   ]
  },
  {
   "cell_type": "code",
   "execution_count": null,
   "id": "fca7e38a-6e11-4e2d-9550-1e5d9b8829bf",
   "metadata": {},
   "outputs": [],
   "source": [
    "max_region = den.loc[den['Dengue_Cases'].idxmax()]\n",
    "min_region = den.loc[den['Dengue_Cases'].idxmin()]\n",
    "\n",
    "max_region[['Region','Dengue_Cases']] , min_region[['Region','Dengue_Cases']]"
   ]
  },
  {
   "cell_type": "code",
   "execution_count": null,
   "id": "a48453c9-7cd7-48a5-9072-5114b0d3b54c",
   "metadata": {},
   "outputs": [],
   "source": []
  },
  {
   "cell_type": "code",
   "execution_count": null,
   "id": "ac526276-d049-44af-bf1f-1671dbd8bffd",
   "metadata": {},
   "outputs": [],
   "source": [
    "regions = [max_region['Region'], min_region['Region']]\n",
    "cases = [max_region['Dengue_Cases'], min_region['Dengue_Cases']]\n",
    "\n",
    "plt.figure(figsize=(8,5))\n",
    "sns.barplot(x=regions, y=cases, palette=['darkred', 'green'])\n",
    "\n",
    "plt.title('Region with Highest & Lowest Dengue Cases')\n",
    "plt.xlabel('Region')\n",
    "plt.ylabel('Dengue Cases')\n",
    "plt.show()"
   ]
  },
  {
   "cell_type": "code",
   "execution_count": null,
   "id": "fb41665c-d336-42f5-b8af-55a78cdbf53d",
   "metadata": {},
   "outputs": [],
   "source": []
  },
  {
   "cell_type": "markdown",
   "id": "596000dc-9c57-4b8b-86d1-28638d9c4699",
   "metadata": {},
   "source": [
    "<h1>13. Top 3 region with the highest fatality rate</h1>"
   ]
  },
  {
   "cell_type": "code",
   "execution_count": null,
   "id": "469e5f3c-c8c8-48b2-bea6-50b0df1f8d3f",
   "metadata": {},
   "outputs": [],
   "source": [
    "fatal_rate = den.groupby('Region').sum()[['Dengue_Cases','Dengue_Deaths']]\n",
    "fatal_rate['Fatality Rate (%)'] = (fatal_rate['Dengue_Deaths'] / fatal_rate['Dengue_Cases']) * 100\n",
    "top3= fatal_rate.nlargest(3,'Fatality Rate (%)')\n",
    "top3"
   ]
  },
  {
   "cell_type": "code",
   "execution_count": null,
   "id": "348fbc5d-1426-4010-860f-1a9b4253fdf4",
   "metadata": {},
   "outputs": [],
   "source": []
  },
  {
   "cell_type": "code",
   "execution_count": null,
   "id": "eaf66533-1d11-4421-b0c5-435364750195",
   "metadata": {},
   "outputs": [],
   "source": [
    "plt.figure(figsize=(8,5))\n",
    "sns.barplot(x=top3.index, y=top3['Fatality Rate (%)'], palette='Reds_r')\n",
    "\n",
    "plt.title('Top 3 Regions with Highest Fatality Rate (%)')\n",
    "plt.xlabel('Region')\n",
    "plt.ylabel('Fatality Rate (%)')\n",
    "plt.ylim(0, top3['Fatality Rate (%)'].max() + 1)  # Adjusts y-axis for better visibility\n",
    "plt.show()"
   ]
  },
  {
   "cell_type": "code",
   "execution_count": null,
   "id": "9625d65b-96b1-4eab-8416-c64129df5d27",
   "metadata": {},
   "outputs": [],
   "source": []
  },
  {
   "cell_type": "code",
   "execution_count": null,
   "id": "24c40def-05ea-42c7-af60-ec34a2ed7701",
   "metadata": {},
   "outputs": [],
   "source": []
  },
  {
   "cell_type": "markdown",
   "id": "f183854d-2b80-4d59-bd73-3ff2ed659928",
   "metadata": {},
   "source": [
    "<h1>14. Which region had the biggest dengue outbreak in a single year?</h1>"
   ]
  },
  {
   "cell_type": "code",
   "execution_count": null,
   "id": "c1920d38-0dc7-4679-a677-f4fd1ddb6cb9",
   "metadata": {},
   "outputs": [],
   "source": [
    "big = den.loc[den['Dengue_Cases'].idxmax(),['Year','Region','Dengue_Cases']]\n",
    "big"
   ]
  },
  {
   "cell_type": "code",
   "execution_count": null,
   "id": "58941bd5-6b10-4fb7-a119-91be854c8c00",
   "metadata": {},
   "outputs": [],
   "source": []
  },
  {
   "cell_type": "code",
   "execution_count": null,
   "id": "fa95a713-3fbf-4082-bedd-5031c3253200",
   "metadata": {},
   "outputs": [],
   "source": [
    "plt.figure(figsize=(6,4))\n",
    "sns.barplot(x=[big['Region']], y=[big['Dengue_Cases']], color='red')\n",
    "\n",
    "plt.title(f\"Worst Dengue Outbreak in {big['Year']}\")\n",
    "plt.xlabel(\"Region\")\n",
    "plt.ylabel(\"Total Dengue Cases\")\n",
    "plt.ylim(0, big['Dengue_Cases'] + 1000)  # Adjust height for better visibility\n",
    "plt.show()"
   ]
  },
  {
   "cell_type": "code",
   "execution_count": null,
   "id": "fbda9592-73b3-4233-8ff4-93e7fd5dff10",
   "metadata": {},
   "outputs": [],
   "source": []
  },
  {
   "cell_type": "markdown",
   "id": "3fa180f0-4fd8-4f5c-9fae-d1246480c81f",
   "metadata": {},
   "source": [
    "<h1>15. Which region had the highest total dengue  cases over all years?</h1>"
   ]
  },
  {
   "cell_type": "code",
   "execution_count": null,
   "id": "fd1f0be8-720f-4dbe-9c82-9800cc864744",
   "metadata": {},
   "outputs": [],
   "source": []
  },
  {
   "cell_type": "code",
   "execution_count": null,
   "id": "faefbb5e-7fac-4c84-8650-11c3e540e9fd",
   "metadata": {},
   "outputs": [],
   "source": [
    "reg_total = den.groupby('Region')['Dengue_Cases'].sum().sort_values(ascending=False)\n",
    "reg_total"
   ]
  },
  {
   "cell_type": "code",
   "execution_count": null,
   "id": "af879d7f-d2a6-449a-8dde-5bafb1f6f00a",
   "metadata": {},
   "outputs": [],
   "source": []
  },
  {
   "cell_type": "code",
   "execution_count": null,
   "id": "e0093518-5d5f-4779-87f3-9bbd1d0180d7",
   "metadata": {},
   "outputs": [],
   "source": [
    "plt.figure(figsize=(8,8))\n",
    "plt.pie(reg_total.head(10), labels=reg_total.head(10).index, autopct='%1.1f%%', colors=sns.color_palette('Reds', 10))\n",
    "\n",
    "plt.title('Proportion of Dengue Cases in Top 10 Regions')\n",
    "plt.show()"
   ]
  },
  {
   "cell_type": "code",
   "execution_count": null,
   "id": "239de707-d927-4d9a-8876-ecc08cf83aca",
   "metadata": {},
   "outputs": [],
   "source": []
  },
  {
   "cell_type": "code",
   "execution_count": null,
   "id": "a71b7dbe-674f-42aa-bc4c-5c5562680cb0",
   "metadata": {},
   "outputs": [],
   "source": []
  },
  {
   "cell_type": "code",
   "execution_count": null,
   "id": "8e3a0833-5044-4e1d-a0b3-62ab73229433",
   "metadata": {},
   "outputs": [],
   "source": []
  },
  {
   "cell_type": "markdown",
   "id": "507999a9-88d6-4a94-a027-03ebbc6d1cdf",
   "metadata": {},
   "source": [
    "<h1>16. which year had the highest number of cases for each region</h1>"
   ]
  },
  {
   "cell_type": "code",
   "execution_count": null,
   "id": "0fb50423-3f52-4083-8801-4a8f751dd7be",
   "metadata": {},
   "outputs": [],
   "source": [
    "high_case= den.loc[den.groupby('Region')['Dengue_Cases'].idxmax(),['Region','Year','Dengue_Cases']]\n",
    "high_case\n"
   ]
  },
  {
   "cell_type": "code",
   "execution_count": null,
   "id": "df3d7264-7ec6-46cd-8d55-2128fa933a8d",
   "metadata": {},
   "outputs": [],
   "source": []
  },
  {
   "cell_type": "code",
   "execution_count": null,
   "id": "412af151-3eb1-4c15-9452-dd5dae8fbac2",
   "metadata": {},
   "outputs": [],
   "source": [
    "heatmap_data = high_case.pivot(index='Region', columns='Year', values='Dengue_Cases')\n",
    "\n",
    "# Create the heatmap\n",
    "plt.figure(figsize=(12,6))\n",
    "sns.heatmap(heatmap_data, cmap='Reds', annot=True, fmt=\".0f\", linewidths=0.5)\n",
    "\n",
    "plt.title('Peak Dengue Cases per Region by Year')\n",
    "plt.xlabel('Year')\n",
    "plt.ylabel('Region')\n",
    "plt.show()"
   ]
  },
  {
   "cell_type": "code",
   "execution_count": null,
   "id": "562215ca-9630-42bf-90b4-739be4ee5edf",
   "metadata": {},
   "outputs": [],
   "source": []
  },
  {
   "cell_type": "code",
   "execution_count": null,
   "id": "80896d35-3d32-4fdb-8cc1-62b3c03067a5",
   "metadata": {},
   "outputs": [],
   "source": []
  },
  {
   "cell_type": "markdown",
   "id": "80dfdc8e-7abb-4d7f-b800-dda4b3a82312",
   "metadata": {},
   "source": [
    "<h1>17. Which Regions Have the Most Unstable Dengue Cases Over the Years?</h1>"
   ]
  },
  {
   "cell_type": "code",
   "execution_count": null,
   "id": "c0897e08-f9eb-4a2e-97b2-e0cf865e961d",
   "metadata": {},
   "outputs": [],
   "source": [
    "region_volatile = den.groupby('Region')['Dengue_Cases'].std().sort_values(ascending= False)\n",
    "region_volatile"
   ]
  },
  {
   "cell_type": "code",
   "execution_count": null,
   "id": "c8bb0dce-c365-4e75-bb1d-e5fa44b9776a",
   "metadata": {},
   "outputs": [],
   "source": []
  },
  {
   "cell_type": "code",
   "execution_count": null,
   "id": "783b708b-28c5-4966-9f7b-b809e2c84469",
   "metadata": {},
   "outputs": [],
   "source": [
    "plt.figure(figsize=(12,6))\n",
    "sns.barplot(x=region_volatile.values, y=region_volatile.index, palette='coolwarm')\n",
    "\n",
    "plt.title('Variability of Dengue Cases Across Regions (Standard Deviation)')\n",
    "plt.xlabel('Standard Deviation of Dengue Cases')\n",
    "plt.ylabel('Region')\n",
    "plt.show()\n"
   ]
  },
  {
   "cell_type": "code",
   "execution_count": null,
   "id": "e19e4aff-e342-4bf4-b5fd-b97c7c962496",
   "metadata": {},
   "outputs": [],
   "source": []
  },
  {
   "cell_type": "code",
   "execution_count": null,
   "id": "21c9e48b-b54c-43ed-83db-da531a06be0f",
   "metadata": {},
   "outputs": [],
   "source": []
  },
  {
   "cell_type": "markdown",
   "id": "1d84bf40-1dcf-4361-b5d7-bd20f50ba9f3",
   "metadata": {},
   "source": [
    "<h1>18. Are Fatality Rates Declining Over the Years?</h1>"
   ]
  },
  {
   "cell_type": "code",
   "execution_count": null,
   "id": "6ca74215-ab0f-4b0d-9f0a-2e11e25ecd82",
   "metadata": {},
   "outputs": [],
   "source": [
    "fatality_trend = den.groupby(\"Year\")[\"Dengue_Deaths\"].sum() / den.groupby(\"Year\")[\"Dengue_Cases\"].sum()\n",
    "fatality_trend"
   ]
  },
  {
   "cell_type": "code",
   "execution_count": null,
   "id": "276d238e-f9a0-4ac7-9bbe-5db8222ad9f1",
   "metadata": {},
   "outputs": [],
   "source": []
  },
  {
   "cell_type": "code",
   "execution_count": null,
   "id": "9fb9924e-2de6-47be-8f46-f865ae4d862a",
   "metadata": {},
   "outputs": [],
   "source": [
    "plt.figure(figsize=(10,6))\n",
    "sns.lineplot(x=fatality_trend.index, y=fatality_trend.values, marker='o', color='red')\n",
    "\n",
    "plt.title(\"Dengue Fatality Rate Trend Over the Years\")\n",
    "plt.xlabel(\"Year\")\n",
    "plt.ylabel(\"Fatality Rate (%)\")\n",
    "plt.ylim(0, fatality_trend.max() * 1.2)  # Adjust Y-axis for better visibility\n",
    "plt.grid(True)\n",
    "plt.show()"
   ]
  },
  {
   "cell_type": "code",
   "execution_count": null,
   "id": "465bced7-2161-4915-9b7c-626c05ac47e7",
   "metadata": {},
   "outputs": [],
   "source": []
  },
  {
   "cell_type": "markdown",
   "id": "8703513c-c77d-4fdd-b78b-9c800ac4ecb7",
   "metadata": {},
   "source": [
    "<h1>19. Which Year Had the Highest Overall Dengue Cases?</h1>"
   ]
  },
  {
   "cell_type": "code",
   "execution_count": null,
   "id": "b3809200-f009-4e45-a302-30aadb24acfe",
   "metadata": {},
   "outputs": [],
   "source": []
  },
  {
   "cell_type": "code",
   "execution_count": null,
   "id": "87b58254-3a91-45e9-8109-242867298f3d",
   "metadata": {},
   "outputs": [],
   "source": [
    "highest_case_year = den.groupby(\"Year\")[\"Dengue_Cases\"].sum().idxmax()\n",
    "highest_case_year\n",
    "\n",
    "\n"
   ]
  },
  {
   "cell_type": "code",
   "execution_count": null,
   "id": "1aa08cdd-9fc1-4391-8468-21ec5cfcdb85",
   "metadata": {},
   "outputs": [],
   "source": []
  },
  {
   "cell_type": "code",
   "execution_count": null,
   "id": "34750239-be24-4241-a231-c5aa2f248222",
   "metadata": {},
   "outputs": [],
   "source": [
    "plt.figure(figsize=(10,6))\n",
    "sns.lineplot(x=yearly_cases.index, y=yearly_cases.values, marker='o', color='red')\n",
    "\n",
    "# Annotate the highest case year\n",
    "plt.text(highest_case_year, yearly_cases.max(), f\"Peak: {highest_case_year}\", \n",
    "         ha=\"right\", va=\"bottom\", fontsize=12, color=\"black\", fontweight=\"bold\")\n",
    "\n",
    "plt.title(\"Dengue Cases Trend Over the Years\")\n",
    "plt.xlabel(\"Year\")\n",
    "plt.ylabel(\"Dengue Cases\")\n",
    "plt.grid(True)\n",
    "plt.show()"
   ]
  },
  {
   "cell_type": "code",
   "execution_count": null,
   "id": "5622c940-37be-48de-bc44-dd42584778c5",
   "metadata": {},
   "outputs": [],
   "source": []
  },
  {
   "cell_type": "code",
   "execution_count": null,
   "id": "f82c688f-d63b-473d-89dd-872621c93384",
   "metadata": {},
   "outputs": [],
   "source": []
  },
  {
   "cell_type": "markdown",
   "id": "a1045f87-9d01-4f6f-aa58-30b1c1a54ec5",
   "metadata": {},
   "source": [
    "<h1>20. Which Regions Have the Most Fatalities Compared to Total Deaths?</h1>"
   ]
  },
  {
   "cell_type": "code",
   "execution_count": null,
   "id": "2c269516-94de-4385-8536-e5309328edd2",
   "metadata": {},
   "outputs": [],
   "source": [
    "region_fatality_share = (den.groupby(\"Region\")[\"Dengue_Deaths\"].sum() / den[\"Dengue_Deaths\"].sum()) * 100\n",
    "region_fatality_share.sort_values(ascending=False)"
   ]
  },
  {
   "cell_type": "code",
   "execution_count": null,
   "id": "a8df26fb-092b-4513-8027-4d5250db1c7e",
   "metadata": {},
   "outputs": [],
   "source": [
    "plt.figure(figsize=(10,6))\n",
    "region_fatality_share.sort_values(ascending=False).plot(kind='pie', autopct='%1.1f%%', cmap='Reds')\n",
    "\n",
    "plt.title(\"Share of Dengue Fatalities by Region\")\n",
    "plt.ylabel(\"\")  # Remove ylabel for clarity\n",
    "plt.show()"
   ]
  },
  {
   "cell_type": "code",
   "execution_count": null,
   "id": "052b9679-e0d6-4185-abf0-624380282930",
   "metadata": {},
   "outputs": [],
   "source": []
  },
  {
   "cell_type": "code",
   "execution_count": null,
   "id": "6ae3366d-0f37-4a0a-a5b3-6570e4bff3d3",
   "metadata": {},
   "outputs": [],
   "source": []
  },
  {
   "cell_type": "code",
   "execution_count": null,
   "id": "a0cd77f0-429b-4e5d-92ca-6224660c8eaf",
   "metadata": {},
   "outputs": [],
   "source": []
  },
  {
   "cell_type": "code",
   "execution_count": null,
   "id": "7d0eb9da-f808-492a-98e3-720929504360",
   "metadata": {},
   "outputs": [],
   "source": []
  },
  {
   "cell_type": "code",
   "execution_count": null,
   "id": "e87126d5-601b-4781-b017-10e337e2dde5",
   "metadata": {},
   "outputs": [],
   "source": []
  },
  {
   "cell_type": "code",
   "execution_count": null,
   "id": "31054560-3ef6-42f5-aeb4-bc147359189c",
   "metadata": {},
   "outputs": [],
   "source": []
  },
  {
   "cell_type": "code",
   "execution_count": null,
   "id": "929665f9-0a49-4dbd-bbd8-15e9e9558d50",
   "metadata": {},
   "outputs": [],
   "source": []
  },
  {
   "cell_type": "code",
   "execution_count": null,
   "id": "01fbe5db-e4c1-4acf-bd8a-9f79fc31a97c",
   "metadata": {},
   "outputs": [],
   "source": []
  },
  {
   "cell_type": "code",
   "execution_count": null,
   "id": "87388fcb-7201-4eb1-8c9f-c4e40a5a1bba",
   "metadata": {},
   "outputs": [],
   "source": []
  },
  {
   "cell_type": "code",
   "execution_count": null,
   "id": "09ae65ae-733d-42e3-8bb4-c75cd470c0af",
   "metadata": {},
   "outputs": [],
   "source": []
  },
  {
   "cell_type": "code",
   "execution_count": null,
   "id": "1fba0f4f-17fb-4365-8636-1b95c4275edc",
   "metadata": {},
   "outputs": [],
   "source": []
  },
  {
   "cell_type": "code",
   "execution_count": null,
   "id": "db556a3d-c41c-4161-96a3-6610367364fe",
   "metadata": {},
   "outputs": [],
   "source": []
  },
  {
   "cell_type": "code",
   "execution_count": null,
   "id": "9f615067-1ceb-468c-8e48-2183fb88f4ab",
   "metadata": {},
   "outputs": [],
   "source": []
  },
  {
   "cell_type": "code",
   "execution_count": null,
   "id": "35f757a1-eef6-4d8d-bb0c-1a6c0dd8c7b4",
   "metadata": {},
   "outputs": [],
   "source": []
  },
  {
   "cell_type": "code",
   "execution_count": null,
   "id": "7a3872b8-8703-4f4e-b591-83ba5b6872b0",
   "metadata": {},
   "outputs": [],
   "source": []
  },
  {
   "cell_type": "code",
   "execution_count": null,
   "id": "58fa04d1-4e06-43b7-aa55-c332e21aec77",
   "metadata": {},
   "outputs": [],
   "source": []
  },
  {
   "cell_type": "code",
   "execution_count": null,
   "id": "490933a7-f074-4a70-a01d-97005a74eab6",
   "metadata": {},
   "outputs": [],
   "source": []
  },
  {
   "cell_type": "code",
   "execution_count": null,
   "id": "1c5a6611-4fac-464e-ab5a-f1fe22656a35",
   "metadata": {},
   "outputs": [],
   "source": []
  },
  {
   "cell_type": "code",
   "execution_count": null,
   "id": "1721ec3a-742e-4970-857d-e754d26093e4",
   "metadata": {},
   "outputs": [],
   "source": []
  },
  {
   "cell_type": "code",
   "execution_count": null,
   "id": "185fc608-405b-40e9-b8c4-9ad76e3c5b9e",
   "metadata": {},
   "outputs": [],
   "source": []
  },
  {
   "cell_type": "code",
   "execution_count": null,
   "id": "0baa0032-6939-48ee-a15a-1ff567fca8b8",
   "metadata": {},
   "outputs": [],
   "source": []
  },
  {
   "cell_type": "code",
   "execution_count": null,
   "id": "686e9f76-842a-467c-927e-b30e573e0449",
   "metadata": {},
   "outputs": [],
   "source": []
  },
  {
   "cell_type": "code",
   "execution_count": null,
   "id": "a9d60a60-cf6d-4c97-975c-447bb75dd99e",
   "metadata": {},
   "outputs": [],
   "source": []
  },
  {
   "cell_type": "code",
   "execution_count": null,
   "id": "99018b73-e4a8-40a7-b4dc-26031964e7ef",
   "metadata": {},
   "outputs": [],
   "source": []
  },
  {
   "cell_type": "code",
   "execution_count": null,
   "id": "6aedb551-daa6-4b2a-aa33-795de4543313",
   "metadata": {},
   "outputs": [],
   "source": []
  },
  {
   "cell_type": "code",
   "execution_count": null,
   "id": "29403ad0-6ffd-43f9-882d-d9ef3a70e2ca",
   "metadata": {},
   "outputs": [],
   "source": []
  },
  {
   "cell_type": "code",
   "execution_count": null,
   "id": "2ac0138b-4992-468a-bf2f-d853eb05e868",
   "metadata": {},
   "outputs": [],
   "source": []
  },
  {
   "cell_type": "code",
   "execution_count": null,
   "id": "b1a8265f-0680-4b86-8201-be1e8f02481f",
   "metadata": {},
   "outputs": [],
   "source": []
  },
  {
   "cell_type": "code",
   "execution_count": null,
   "id": "1e881871-e899-44ac-8770-eeeb91e7ce20",
   "metadata": {},
   "outputs": [],
   "source": []
  },
  {
   "cell_type": "code",
   "execution_count": null,
   "id": "21c150f6-7e1f-42f8-8482-ac848dc36c15",
   "metadata": {},
   "outputs": [],
   "source": []
  },
  {
   "cell_type": "code",
   "execution_count": null,
   "id": "fbb38448-003f-4684-85ce-122c56143c59",
   "metadata": {},
   "outputs": [],
   "source": []
  },
  {
   "cell_type": "code",
   "execution_count": null,
   "id": "361740e9-088d-4e13-99be-4f2d2a0da132",
   "metadata": {},
   "outputs": [],
   "source": []
  },
  {
   "cell_type": "code",
   "execution_count": null,
   "id": "49a33827-420a-42e3-a5c5-3592d038f315",
   "metadata": {},
   "outputs": [],
   "source": []
  },
  {
   "cell_type": "code",
   "execution_count": null,
   "id": "f05a6da2-0ec4-4771-8c2a-f12983b33031",
   "metadata": {},
   "outputs": [],
   "source": []
  },
  {
   "cell_type": "code",
   "execution_count": null,
   "id": "1d40b1e8-4599-4ef9-9507-f09f270fdbe7",
   "metadata": {},
   "outputs": [],
   "source": []
  },
  {
   "cell_type": "code",
   "execution_count": null,
   "id": "ab5168a4-433c-430e-9cb8-bd88b138365e",
   "metadata": {},
   "outputs": [],
   "source": []
  },
  {
   "cell_type": "code",
   "execution_count": null,
   "id": "0a36142d-73d8-41c7-abc5-01fbcd289902",
   "metadata": {},
   "outputs": [],
   "source": []
  },
  {
   "cell_type": "code",
   "execution_count": null,
   "id": "99ed566c-7461-488d-9077-92838b302770",
   "metadata": {},
   "outputs": [],
   "source": []
  },
  {
   "cell_type": "code",
   "execution_count": null,
   "id": "477b9098-578b-4970-87f2-19d5a8cb9dfb",
   "metadata": {},
   "outputs": [],
   "source": [
    "\n"
   ]
  },
  {
   "cell_type": "code",
   "execution_count": null,
   "id": "80791720-9993-47d5-9d66-792339fb6156",
   "metadata": {},
   "outputs": [],
   "source": []
  },
  {
   "cell_type": "code",
   "execution_count": null,
   "id": "fd0471e5-631f-460d-8b1c-6b4ec7a7ccfa",
   "metadata": {},
   "outputs": [],
   "source": []
  },
  {
   "cell_type": "code",
   "execution_count": null,
   "id": "71023e19-a724-4598-9eb6-63ccd15f4fbc",
   "metadata": {},
   "outputs": [],
   "source": []
  },
  {
   "cell_type": "code",
   "execution_count": null,
   "id": "54466daf-768a-4d49-8bdb-4db091ee5aa9",
   "metadata": {},
   "outputs": [],
   "source": []
  },
  {
   "cell_type": "code",
   "execution_count": null,
   "id": "8e303122-d5c3-40e3-8404-1298280507a1",
   "metadata": {},
   "outputs": [],
   "source": []
  },
  {
   "cell_type": "code",
   "execution_count": null,
   "id": "cfd7eb93-b45a-43a0-83f1-bf263d0733c7",
   "metadata": {},
   "outputs": [],
   "source": []
  },
  {
   "cell_type": "code",
   "execution_count": null,
   "id": "9399ea43-7369-4b8d-94e3-401823af4326",
   "metadata": {},
   "outputs": [],
   "source": []
  },
  {
   "cell_type": "code",
   "execution_count": null,
   "id": "5c9a57ef-d483-4646-9f0c-ccaab143952c",
   "metadata": {},
   "outputs": [],
   "source": [
    "total"
   ]
  },
  {
   "cell_type": "code",
   "execution_count": null,
   "id": "98fcf98c-764f-44e3-ab37-379622d2f7af",
   "metadata": {},
   "outputs": [],
   "source": []
  },
  {
   "cell_type": "code",
   "execution_count": null,
   "id": "86d8a843-1d1b-43c2-9db8-c911c9b57acd",
   "metadata": {},
   "outputs": [],
   "source": [
    "\n"
   ]
  },
  {
   "cell_type": "code",
   "execution_count": null,
   "id": "95682336-a13a-4d63-baae-d170ce845742",
   "metadata": {},
   "outputs": [],
   "source": []
  },
  {
   "cell_type": "code",
   "execution_count": null,
   "id": "c7f715e3-69cd-4a32-b3a0-2ef9a76432a7",
   "metadata": {},
   "outputs": [],
   "source": []
  },
  {
   "cell_type": "code",
   "execution_count": null,
   "id": "46e822fe-d1c0-4af9-be16-fb81ba488a17",
   "metadata": {},
   "outputs": [],
   "source": []
  },
  {
   "cell_type": "code",
   "execution_count": null,
   "id": "f63b3c24-6e70-4234-8423-cba9331771b0",
   "metadata": {},
   "outputs": [],
   "source": []
  },
  {
   "cell_type": "code",
   "execution_count": null,
   "id": "43de29e5-25e6-4787-be23-309443ca927f",
   "metadata": {},
   "outputs": [],
   "source": []
  },
  {
   "cell_type": "code",
   "execution_count": null,
   "id": "ce432339-45fb-44f3-9b90-3ce1ea2c675a",
   "metadata": {},
   "outputs": [],
   "source": []
  },
  {
   "cell_type": "code",
   "execution_count": null,
   "id": "bb77e2fe-32c0-4f59-8642-1140a14f66f6",
   "metadata": {},
   "outputs": [],
   "source": [
    "den"
   ]
  },
  {
   "cell_type": "code",
   "execution_count": null,
   "id": "503534ee-8213-41db-b515-0b27eb8b892f",
   "metadata": {},
   "outputs": [],
   "source": []
  },
  {
   "cell_type": "code",
   "execution_count": null,
   "id": "f4a24aff-63fc-489b-9572-51007831dc55",
   "metadata": {},
   "outputs": [],
   "source": []
  },
  {
   "cell_type": "code",
   "execution_count": null,
   "id": "44426087-793a-42db-96bc-066c5148771c",
   "metadata": {},
   "outputs": [],
   "source": []
  }
 ],
 "metadata": {
  "kernelspec": {
   "display_name": "Python 3 (ipykernel)",
   "language": "python",
   "name": "python3"
  },
  "language_info": {
   "codemirror_mode": {
    "name": "ipython",
    "version": 3
   },
   "file_extension": ".py",
   "mimetype": "text/x-python",
   "name": "python",
   "nbconvert_exporter": "python",
   "pygments_lexer": "ipython3",
   "version": "3.13.2"
  }
 },
 "nbformat": 4,
 "nbformat_minor": 5
}
