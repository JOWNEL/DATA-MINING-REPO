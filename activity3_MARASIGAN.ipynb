{
 "cells": [
  {
   "cell_type": "code",
   "execution_count": 13,
   "id": "4e321e48-e464-4757-9ec7-a93c037ab8e5",
   "metadata": {},
   "outputs": [],
   "source": [
    "import numpy as np\n",
    "import pandas as pd\n",
    "import matplotlib.pyplot as plt\n",
    "import seaborn as sns"
   ]
  },
  {
   "cell_type": "code",
   "execution_count": 20,
   "id": "10d9365b-1354-4f20-8708-9cd265de03ff",
   "metadata": {},
   "outputs": [],
   "source": [
    "acci = pd.read_csv('accident_data.csv')"
   ]
  },
  {
   "cell_type": "code",
   "execution_count": 21,
   "id": "a0cf2435-bcb7-4cbc-af55-06a014c676ba",
   "metadata": {},
   "outputs": [
    {
     "name": "stdout",
     "output_type": "stream",
     "text": [
      "<class 'pandas.core.frame.DataFrame'>\n",
      "RangeIndex: 660679 entries, 0 to 660678\n",
      "Data columns (total 14 columns):\n",
      " #   Column                   Non-Null Count   Dtype  \n",
      "---  ------                   --------------   -----  \n",
      " 0   Index                    660679 non-null  object \n",
      " 1   Accident_Severity        660679 non-null  object \n",
      " 2   Accident Date            660679 non-null  object \n",
      " 3   Latitude                 660654 non-null  float64\n",
      " 4   Light_Conditions         660679 non-null  object \n",
      " 5   District Area            660679 non-null  object \n",
      " 6   Longitude                660653 non-null  float64\n",
      " 7   Number_of_Casualties     660679 non-null  int64  \n",
      " 8   Number_of_Vehicles       660679 non-null  int64  \n",
      " 9   Road_Surface_Conditions  659953 non-null  object \n",
      " 10  Road_Type                656159 non-null  object \n",
      " 11  Urban_or_Rural_Area      660664 non-null  object \n",
      " 12  Weather_Conditions       646551 non-null  object \n",
      " 13  Vehicle_Type             660679 non-null  object \n",
      "dtypes: float64(2), int64(2), object(10)\n",
      "memory usage: 70.6+ MB\n"
     ]
    }
   ],
   "source": [
    "acci.info()"
   ]
  },
  {
   "cell_type": "code",
   "execution_count": 16,
   "id": "832d92a7-94b6-4a47-bf02-9be1f83c55e2",
   "metadata": {},
   "outputs": [
    {
     "data": {
      "text/html": [
       "<div>\n",
       "<style scoped>\n",
       "    .dataframe tbody tr th:only-of-type {\n",
       "        vertical-align: middle;\n",
       "    }\n",
       "\n",
       "    .dataframe tbody tr th {\n",
       "        vertical-align: top;\n",
       "    }\n",
       "\n",
       "    .dataframe thead th {\n",
       "        text-align: right;\n",
       "    }\n",
       "</style>\n",
       "<table border=\"1\" class=\"dataframe\">\n",
       "  <thead>\n",
       "    <tr style=\"text-align: right;\">\n",
       "      <th></th>\n",
       "      <th>Latitude</th>\n",
       "      <th>Longitude</th>\n",
       "      <th>Number_of_Casualties</th>\n",
       "      <th>Number_of_Vehicles</th>\n",
       "    </tr>\n",
       "  </thead>\n",
       "  <tbody>\n",
       "    <tr>\n",
       "      <th>count</th>\n",
       "      <td>660654.000000</td>\n",
       "      <td>660653.000000</td>\n",
       "      <td>660679.000000</td>\n",
       "      <td>660679.000000</td>\n",
       "    </tr>\n",
       "    <tr>\n",
       "      <th>mean</th>\n",
       "      <td>52.553866</td>\n",
       "      <td>-1.431210</td>\n",
       "      <td>1.357040</td>\n",
       "      <td>1.831255</td>\n",
       "    </tr>\n",
       "    <tr>\n",
       "      <th>std</th>\n",
       "      <td>1.406922</td>\n",
       "      <td>1.383330</td>\n",
       "      <td>0.824847</td>\n",
       "      <td>0.715269</td>\n",
       "    </tr>\n",
       "    <tr>\n",
       "      <th>min</th>\n",
       "      <td>49.914430</td>\n",
       "      <td>-7.516225</td>\n",
       "      <td>1.000000</td>\n",
       "      <td>1.000000</td>\n",
       "    </tr>\n",
       "    <tr>\n",
       "      <th>25%</th>\n",
       "      <td>51.490690</td>\n",
       "      <td>-2.332291</td>\n",
       "      <td>1.000000</td>\n",
       "      <td>1.000000</td>\n",
       "    </tr>\n",
       "    <tr>\n",
       "      <th>50%</th>\n",
       "      <td>52.315641</td>\n",
       "      <td>-1.411667</td>\n",
       "      <td>1.000000</td>\n",
       "      <td>2.000000</td>\n",
       "    </tr>\n",
       "    <tr>\n",
       "      <th>75%</th>\n",
       "      <td>53.453452</td>\n",
       "      <td>-0.232869</td>\n",
       "      <td>1.000000</td>\n",
       "      <td>2.000000</td>\n",
       "    </tr>\n",
       "    <tr>\n",
       "      <th>max</th>\n",
       "      <td>60.757544</td>\n",
       "      <td>1.762010</td>\n",
       "      <td>68.000000</td>\n",
       "      <td>32.000000</td>\n",
       "    </tr>\n",
       "  </tbody>\n",
       "</table>\n",
       "</div>"
      ],
      "text/plain": [
       "            Latitude      Longitude  Number_of_Casualties  Number_of_Vehicles\n",
       "count  660654.000000  660653.000000         660679.000000       660679.000000\n",
       "mean       52.553866      -1.431210              1.357040            1.831255\n",
       "std         1.406922       1.383330              0.824847            0.715269\n",
       "min        49.914430      -7.516225              1.000000            1.000000\n",
       "25%        51.490690      -2.332291              1.000000            1.000000\n",
       "50%        52.315641      -1.411667              1.000000            2.000000\n",
       "75%        53.453452      -0.232869              1.000000            2.000000\n",
       "max        60.757544       1.762010             68.000000           32.000000"
      ]
     },
     "execution_count": 16,
     "metadata": {},
     "output_type": "execute_result"
    }
   ],
   "source": [
    "acci.describe()"
   ]
  },
  {
   "cell_type": "code",
   "execution_count": 17,
   "id": "59c3652e-0441-4c20-a2ec-2d0ebca86786",
   "metadata": {},
   "outputs": [
    {
     "data": {
      "text/html": [
       "<div>\n",
       "<style scoped>\n",
       "    .dataframe tbody tr th:only-of-type {\n",
       "        vertical-align: middle;\n",
       "    }\n",
       "\n",
       "    .dataframe tbody tr th {\n",
       "        vertical-align: top;\n",
       "    }\n",
       "\n",
       "    .dataframe thead th {\n",
       "        text-align: right;\n",
       "    }\n",
       "</style>\n",
       "<table border=\"1\" class=\"dataframe\">\n",
       "  <thead>\n",
       "    <tr style=\"text-align: right;\">\n",
       "      <th></th>\n",
       "      <th>count</th>\n",
       "      <th>mean</th>\n",
       "      <th>std</th>\n",
       "      <th>min</th>\n",
       "      <th>25%</th>\n",
       "      <th>50%</th>\n",
       "      <th>75%</th>\n",
       "      <th>max</th>\n",
       "    </tr>\n",
       "  </thead>\n",
       "  <tbody>\n",
       "    <tr>\n",
       "      <th>Latitude</th>\n",
       "      <td>660654.0</td>\n",
       "      <td>52.553866</td>\n",
       "      <td>1.406922</td>\n",
       "      <td>49.914430</td>\n",
       "      <td>51.490690</td>\n",
       "      <td>52.315641</td>\n",
       "      <td>53.453452</td>\n",
       "      <td>60.757544</td>\n",
       "    </tr>\n",
       "    <tr>\n",
       "      <th>Longitude</th>\n",
       "      <td>660653.0</td>\n",
       "      <td>-1.431210</td>\n",
       "      <td>1.383330</td>\n",
       "      <td>-7.516225</td>\n",
       "      <td>-2.332291</td>\n",
       "      <td>-1.411667</td>\n",
       "      <td>-0.232869</td>\n",
       "      <td>1.762010</td>\n",
       "    </tr>\n",
       "    <tr>\n",
       "      <th>Number_of_Casualties</th>\n",
       "      <td>660679.0</td>\n",
       "      <td>1.357040</td>\n",
       "      <td>0.824847</td>\n",
       "      <td>1.000000</td>\n",
       "      <td>1.000000</td>\n",
       "      <td>1.000000</td>\n",
       "      <td>1.000000</td>\n",
       "      <td>68.000000</td>\n",
       "    </tr>\n",
       "    <tr>\n",
       "      <th>Number_of_Vehicles</th>\n",
       "      <td>660679.0</td>\n",
       "      <td>1.831255</td>\n",
       "      <td>0.715269</td>\n",
       "      <td>1.000000</td>\n",
       "      <td>1.000000</td>\n",
       "      <td>2.000000</td>\n",
       "      <td>2.000000</td>\n",
       "      <td>32.000000</td>\n",
       "    </tr>\n",
       "  </tbody>\n",
       "</table>\n",
       "</div>"
      ],
      "text/plain": [
       "                         count       mean       std        min        25%  \\\n",
       "Latitude              660654.0  52.553866  1.406922  49.914430  51.490690   \n",
       "Longitude             660653.0  -1.431210  1.383330  -7.516225  -2.332291   \n",
       "Number_of_Casualties  660679.0   1.357040  0.824847   1.000000   1.000000   \n",
       "Number_of_Vehicles    660679.0   1.831255  0.715269   1.000000   1.000000   \n",
       "\n",
       "                            50%        75%        max  \n",
       "Latitude              52.315641  53.453452  60.757544  \n",
       "Longitude             -1.411667  -0.232869   1.762010  \n",
       "Number_of_Casualties   1.000000   1.000000  68.000000  \n",
       "Number_of_Vehicles     2.000000   2.000000  32.000000  "
      ]
     },
     "execution_count": 17,
     "metadata": {},
     "output_type": "execute_result"
    }
   ],
   "source": [
    "acci.describe().T"
   ]
  },
  {
   "cell_type": "code",
   "execution_count": 26,
   "id": "add3539a-7162-4bb6-aa3b-63d4ba0a2bd5",
   "metadata": {},
   "outputs": [],
   "source": [
    "acci[\"Accident Date\"] = pd.to_datetime(acci[\"Accident Date\"], errors='coerce')"
   ]
  },
  {
   "cell_type": "code",
   "execution_count": null,
   "id": "1e26440a-c087-4587-9088-30d6ada9a68c",
   "metadata": {},
   "outputs": [],
   "source": []
  },
  {
   "cell_type": "code",
   "execution_count": null,
   "id": "d73522db-e552-47f3-981c-a60d4b2b013e",
   "metadata": {},
   "outputs": [],
   "source": []
  },
  {
   "cell_type": "markdown",
   "id": "6de9f9a3-c0cc-43fc-b87e-d1a999eb1a3d",
   "metadata": {},
   "source": [
    "<h1>---------------------------------------------------------------------------------</h1>"
   ]
  },
  {
   "cell_type": "markdown",
   "id": "968b549f-ab4c-483f-b56e-3b18b0e1d859",
   "metadata": {},
   "source": [
    "<h1>INSIGHT NO.1 Majority of Accidents Happen During Daylight</h1>"
   ]
  },
  {
   "cell_type": "code",
   "execution_count": 29,
   "id": "aec19a3b-00eb-4e58-b3de-a927c5641531",
   "metadata": {},
   "outputs": [],
   "source": [
    "df_2019 = acci[acci[\"Accident Date\"].dt.year == 2019]\n",
    "total_accidents_2019 = df_2019[\"Light_Conditions\"].value_counts().sum()\n",
    "light_condition_counts = df_2019[\"Light_Conditions\"].value_counts()\n",
    "daylight_percentage = (light_condition_counts[\"Daylight\"] / total_accidents_2019) * 100\n"
   ]
  },
  {
   "cell_type": "code",
   "execution_count": 31,
   "id": "135763e8-7d3e-4c52-b907-e503be3f8ab3",
   "metadata": {},
   "outputs": [
    {
     "name": "stdout",
     "output_type": "stream",
     "text": [
      "Total number of accidents in 2019: 71867\n"
     ]
    },
    {
     "data": {
      "text/html": [
       "<div>\n",
       "<style scoped>\n",
       "    .dataframe tbody tr th:only-of-type {\n",
       "        vertical-align: middle;\n",
       "    }\n",
       "\n",
       "    .dataframe tbody tr th {\n",
       "        vertical-align: top;\n",
       "    }\n",
       "\n",
       "    .dataframe thead th {\n",
       "        text-align: right;\n",
       "    }\n",
       "</style>\n",
       "<table border=\"1\" class=\"dataframe\">\n",
       "  <thead>\n",
       "    <tr style=\"text-align: right;\">\n",
       "      <th></th>\n",
       "      <th>count</th>\n",
       "    </tr>\n",
       "    <tr>\n",
       "      <th>Light_Conditions</th>\n",
       "      <th></th>\n",
       "    </tr>\n",
       "  </thead>\n",
       "  <tbody>\n",
       "    <tr>\n",
       "      <th>Daylight</th>\n",
       "      <td>52518</td>\n",
       "    </tr>\n",
       "    <tr>\n",
       "      <th>Darkness - lights lit</th>\n",
       "      <td>14124</td>\n",
       "    </tr>\n",
       "    <tr>\n",
       "      <th>Darkness - no lighting</th>\n",
       "      <td>4242</td>\n",
       "    </tr>\n",
       "    <tr>\n",
       "      <th>Darkness - lighting unknown</th>\n",
       "      <td>719</td>\n",
       "    </tr>\n",
       "    <tr>\n",
       "      <th>Darkness - lights unlit</th>\n",
       "      <td>264</td>\n",
       "    </tr>\n",
       "  </tbody>\n",
       "</table>\n",
       "</div>"
      ],
      "text/plain": [
       "                             count\n",
       "Light_Conditions                  \n",
       "Daylight                     52518\n",
       "Darkness - lights lit        14124\n",
       "Darkness - no lighting        4242\n",
       "Darkness - lighting unknown    719\n",
       "Darkness - lights unlit        264"
      ]
     },
     "metadata": {},
     "output_type": "display_data"
    },
    {
     "name": "stdout",
     "output_type": "stream",
     "text": [
      "Percentage of accidents in daylight: 73.08%\n"
     ]
    }
   ],
   "source": [
    "print(f\"Total number of accidents in 2019: {total_accidents_2019}\")\n",
    "display(light_condition_counts.to_frame())  \n",
    "print(f\"Percentage of accidents in daylight: {daylight_percentage:.2f}%\")"
   ]
  },
  {
   "cell_type": "markdown",
   "id": "c10f95c1-c04d-469c-a5b8-756aed409ee5",
   "metadata": {},
   "source": [
    "<h2>Contrary to the belief that most accidents occur at night, about 72.9% of total accidents in this dataset happened in daylight.</h2>"
   ]
  },
  {
   "cell_type": "markdown",
   "id": "60c8320c-fa8c-4dcd-880d-498e5a0b3f7d",
   "metadata": {},
   "source": [
    "<h1>-----------------------------------------------------------</h1>"
   ]
  },
  {
   "cell_type": "markdown",
   "id": "de87b115-4284-4829-bd83-0bc30851dc12",
   "metadata": {},
   "source": [
    "<h1>INSIGHT-NO.2 \n",
    "   which month has the highest number of accidents?</h1>"
   ]
  },
  {
   "cell_type": "code",
   "execution_count": 38,
   "id": "65986c8c-87db-4c43-bcf0-332a70b08df8",
   "metadata": {},
   "outputs": [
    {
     "name": "stdout",
     "output_type": "stream",
     "text": [
      "Accidents by Month:\n"
     ]
    },
    {
     "data": {
      "text/html": [
       "<div>\n",
       "<style scoped>\n",
       "    .dataframe tbody tr th:only-of-type {\n",
       "        vertical-align: middle;\n",
       "    }\n",
       "\n",
       "    .dataframe tbody tr th {\n",
       "        vertical-align: top;\n",
       "    }\n",
       "\n",
       "    .dataframe thead th {\n",
       "        text-align: right;\n",
       "    }\n",
       "</style>\n",
       "<table border=\"1\" class=\"dataframe\">\n",
       "  <thead>\n",
       "    <tr style=\"text-align: right;\">\n",
       "      <th></th>\n",
       "      <th>count</th>\n",
       "    </tr>\n",
       "    <tr>\n",
       "      <th>Month</th>\n",
       "      <th></th>\n",
       "    </tr>\n",
       "  </thead>\n",
       "  <tbody>\n",
       "    <tr>\n",
       "      <th>1.0</th>\n",
       "      <td>22606</td>\n",
       "    </tr>\n",
       "    <tr>\n",
       "      <th>2.0</th>\n",
       "      <td>21815</td>\n",
       "    </tr>\n",
       "    <tr>\n",
       "      <th>3.0</th>\n",
       "      <td>21540</td>\n",
       "    </tr>\n",
       "    <tr>\n",
       "      <th>4.0</th>\n",
       "      <td>21699</td>\n",
       "    </tr>\n",
       "    <tr>\n",
       "      <th>5.0</th>\n",
       "      <td>22409</td>\n",
       "    </tr>\n",
       "    <tr>\n",
       "      <th>6.0</th>\n",
       "      <td>21974</td>\n",
       "    </tr>\n",
       "    <tr>\n",
       "      <th>7.0</th>\n",
       "      <td>21431</td>\n",
       "    </tr>\n",
       "    <tr>\n",
       "      <th>8.0</th>\n",
       "      <td>21914</td>\n",
       "    </tr>\n",
       "    <tr>\n",
       "      <th>9.0</th>\n",
       "      <td>22252</td>\n",
       "    </tr>\n",
       "    <tr>\n",
       "      <th>10.0</th>\n",
       "      <td>22328</td>\n",
       "    </tr>\n",
       "    <tr>\n",
       "      <th>11.0</th>\n",
       "      <td>22503</td>\n",
       "    </tr>\n",
       "    <tr>\n",
       "      <th>12.0</th>\n",
       "      <td>22536</td>\n",
       "    </tr>\n",
       "  </tbody>\n",
       "</table>\n",
       "</div>"
      ],
      "text/plain": [
       "       count\n",
       "Month       \n",
       "1.0    22606\n",
       "2.0    21815\n",
       "3.0    21540\n",
       "4.0    21699\n",
       "5.0    22409\n",
       "6.0    21974\n",
       "7.0    21431\n",
       "8.0    21914\n",
       "9.0    22252\n",
       "10.0   22328\n",
       "11.0   22503\n",
       "12.0   22536"
      ]
     },
     "metadata": {},
     "output_type": "display_data"
    }
   ],
   "source": [
    "acci[\"Month\"] = acci[\"Accident Date\"].dt.month\n",
    "monthly_accidents = acci[\"Month\"].value_counts().sort_index()\n",
    "\n",
    "print(\"Accidents by Month:\")\n",
    "display(monthly_accidents.to_frame())\n"
   ]
  },
  {
   "cell_type": "markdown",
   "id": "34556c44-d96e-4a04-83d7-df9a8d69e589",
   "metadata": {},
   "source": [
    "<h2>The highest number of accidents occur in December, possibly due to holiday travel, poor weather, and increased night driving.</h2>"
   ]
  },
  {
   "cell_type": "code",
   "execution_count": null,
   "id": "c826596e-8f63-4f4b-915b-7eabcb5e826b",
   "metadata": {},
   "outputs": [],
   "source": []
  },
  {
   "cell_type": "markdown",
   "id": "a52c6f1f-494e-45c2-b44d-2728101144b6",
   "metadata": {},
   "source": [
    "<h1>-----------------------------------------------------------</h1>"
   ]
  },
  {
   "cell_type": "markdown",
   "id": "da39a1f2-ffdc-4150-9dab-4cccd7afe05c",
   "metadata": {},
   "source": [
    "<h1>INSIGHTS NO.3- Do accidents increase on weekends compared to weekdays?</h1>"
   ]
  },
  {
   "cell_type": "code",
   "execution_count": 39,
   "id": "46e31f2a-8dea-4834-8cce-ff0e4dc0bbd5",
   "metadata": {},
   "outputs": [
    {
     "name": "stdout",
     "output_type": "stream",
     "text": [
      "Accidents by Day of the Week:\n"
     ]
    },
    {
     "data": {
      "text/html": [
       "<div>\n",
       "<style scoped>\n",
       "    .dataframe tbody tr th:only-of-type {\n",
       "        vertical-align: middle;\n",
       "    }\n",
       "\n",
       "    .dataframe tbody tr th {\n",
       "        vertical-align: top;\n",
       "    }\n",
       "\n",
       "    .dataframe thead th {\n",
       "        text-align: right;\n",
       "    }\n",
       "</style>\n",
       "<table border=\"1\" class=\"dataframe\">\n",
       "  <thead>\n",
       "    <tr style=\"text-align: right;\">\n",
       "      <th></th>\n",
       "      <th>count</th>\n",
       "    </tr>\n",
       "    <tr>\n",
       "      <th>Weekday</th>\n",
       "      <th></th>\n",
       "    </tr>\n",
       "  </thead>\n",
       "  <tbody>\n",
       "    <tr>\n",
       "      <th>Tuesday</th>\n",
       "      <td>39701</td>\n",
       "    </tr>\n",
       "    <tr>\n",
       "      <th>Friday</th>\n",
       "      <td>38511</td>\n",
       "    </tr>\n",
       "    <tr>\n",
       "      <th>Thursday</th>\n",
       "      <td>38009</td>\n",
       "    </tr>\n",
       "    <tr>\n",
       "      <th>Sunday</th>\n",
       "      <td>37772</td>\n",
       "    </tr>\n",
       "    <tr>\n",
       "      <th>Saturday</th>\n",
       "      <td>37751</td>\n",
       "    </tr>\n",
       "    <tr>\n",
       "      <th>Wednesday</th>\n",
       "      <td>37548</td>\n",
       "    </tr>\n",
       "    <tr>\n",
       "      <th>Monday</th>\n",
       "      <td>35715</td>\n",
       "    </tr>\n",
       "  </tbody>\n",
       "</table>\n",
       "</div>"
      ],
      "text/plain": [
       "           count\n",
       "Weekday         \n",
       "Tuesday    39701\n",
       "Friday     38511\n",
       "Thursday   38009\n",
       "Sunday     37772\n",
       "Saturday   37751\n",
       "Wednesday  37548\n",
       "Monday     35715"
      ]
     },
     "metadata": {},
     "output_type": "display_data"
    }
   ],
   "source": [
    "acci[\"Weekday\"] = acci[\"Accident Date\"].dt.day_name()\n",
    "weekday_accidents = acci[\"Weekday\"].value_counts()\n",
    "\n",
    "print(\"Accidents by Day of the Week:\")\n",
    "display(weekday_accidents.to_frame())\n"
   ]
  },
  {
   "cell_type": "markdown",
   "id": "1871b1c9-6ff9-488a-87bc-3a8db865e858",
   "metadata": {},
   "source": [
    "<h3>Accidents increase on Fridays and saturdays likely due to weekend travel nightlife and social activities</h3>"
   ]
  },
  {
   "cell_type": "code",
   "execution_count": null,
   "id": "229cd367-32b1-4adf-af8c-cdb8116adb42",
   "metadata": {},
   "outputs": [],
   "source": []
  },
  {
   "cell_type": "markdown",
   "id": "d0ac5c61-4cc6-4fab-a543-ee9620081bc0",
   "metadata": {},
   "source": [
    "<h1>---------------------------------------------------------------------------------</h1>"
   ]
  },
  {
   "cell_type": "markdown",
   "id": "821a458a-cb68-48c9-b707-f869767c4c95",
   "metadata": {},
   "source": [
    "<h1>INSIGHT NO.4 - How do accident trends change over the years?</h1>"
   ]
  },
  {
   "cell_type": "code",
   "execution_count": null,
   "id": "48776a5f-b3b7-42b4-8312-2ed3149b924b",
   "metadata": {},
   "outputs": [],
   "source": []
  },
  {
   "cell_type": "code",
   "execution_count": 41,
   "id": "564a9e08-43cb-494c-a108-d7980e0e462d",
   "metadata": {},
   "outputs": [
    {
     "name": "stdout",
     "output_type": "stream",
     "text": [
      "Accident Trend Over the Years:\n"
     ]
    },
    {
     "data": {
      "text/html": [
       "<div>\n",
       "<style scoped>\n",
       "    .dataframe tbody tr th:only-of-type {\n",
       "        vertical-align: middle;\n",
       "    }\n",
       "\n",
       "    .dataframe tbody tr th {\n",
       "        vertical-align: top;\n",
       "    }\n",
       "\n",
       "    .dataframe thead th {\n",
       "        text-align: right;\n",
       "    }\n",
       "</style>\n",
       "<table border=\"1\" class=\"dataframe\">\n",
       "  <thead>\n",
       "    <tr style=\"text-align: right;\">\n",
       "      <th></th>\n",
       "      <th>count</th>\n",
       "    </tr>\n",
       "    <tr>\n",
       "      <th>Year</th>\n",
       "      <th></th>\n",
       "    </tr>\n",
       "  </thead>\n",
       "  <tbody>\n",
       "    <tr>\n",
       "      <th>2019.0</th>\n",
       "      <td>71867</td>\n",
       "    </tr>\n",
       "    <tr>\n",
       "      <th>2020.0</th>\n",
       "      <td>70163</td>\n",
       "    </tr>\n",
       "    <tr>\n",
       "      <th>2021.0</th>\n",
       "      <td>66172</td>\n",
       "    </tr>\n",
       "    <tr>\n",
       "      <th>2022.0</th>\n",
       "      <td>56805</td>\n",
       "    </tr>\n",
       "  </tbody>\n",
       "</table>\n",
       "</div>"
      ],
      "text/plain": [
       "        count\n",
       "Year         \n",
       "2019.0  71867\n",
       "2020.0  70163\n",
       "2021.0  66172\n",
       "2022.0  56805"
      ]
     },
     "metadata": {},
     "output_type": "display_data"
    }
   ],
   "source": [
    "acci[\"Year\"] = acci[\"Accident Date\"].dt.year\n",
    "yearly_trend = acci[\"Year\"].value_counts().sort_index()\n",
    "\n",
    "print(\"Accident Trend Over the Years:\")\n",
    "display(yearly_trend.to_frame())\n"
   ]
  },
  {
   "cell_type": "markdown",
   "id": "394917e3-e6ca-4972-a219-665aafe6c142",
   "metadata": {},
   "source": [
    "<h3>Accidents have been decreasing over the years, possibly due to safety measures and more cautions on the road</h3>"
   ]
  },
  {
   "cell_type": "code",
   "execution_count": null,
   "id": "7145f98a-1741-4a62-90d6-a641c93f6b23",
   "metadata": {},
   "outputs": [],
   "source": []
  },
  {
   "cell_type": "markdown",
   "id": "87f4fbd9-a534-4b12-a5b4-fa2169877423",
   "metadata": {},
   "source": [
    "<h1>---------------------------------------------------------------------------------</h1>"
   ]
  },
  {
   "cell_type": "markdown",
   "id": "1f0c64da-b59b-4030-a628-fe0913962273",
   "metadata": {},
   "source": [
    "<h1>INSIGHT NO.5 - Do more accidents occur in rainy weather compared to clear conditions?</h1>"
   ]
  },
  {
   "cell_type": "code",
   "execution_count": 42,
   "id": "0a4fdc45-19e4-4ba6-a82e-5b177f3bceeb",
   "metadata": {},
   "outputs": [
    {
     "name": "stdout",
     "output_type": "stream",
     "text": [
      "Accidents by Weather Conditions:\n"
     ]
    },
    {
     "data": {
      "text/html": [
       "<div>\n",
       "<style scoped>\n",
       "    .dataframe tbody tr th:only-of-type {\n",
       "        vertical-align: middle;\n",
       "    }\n",
       "\n",
       "    .dataframe tbody tr th {\n",
       "        vertical-align: top;\n",
       "    }\n",
       "\n",
       "    .dataframe thead th {\n",
       "        text-align: right;\n",
       "    }\n",
       "</style>\n",
       "<table border=\"1\" class=\"dataframe\">\n",
       "  <thead>\n",
       "    <tr style=\"text-align: right;\">\n",
       "      <th></th>\n",
       "      <th>count</th>\n",
       "    </tr>\n",
       "    <tr>\n",
       "      <th>Weather_Conditions</th>\n",
       "      <th></th>\n",
       "    </tr>\n",
       "  </thead>\n",
       "  <tbody>\n",
       "    <tr>\n",
       "      <th>Fine no high winds</th>\n",
       "      <td>520885</td>\n",
       "    </tr>\n",
       "    <tr>\n",
       "      <th>Raining no high winds</th>\n",
       "      <td>79696</td>\n",
       "    </tr>\n",
       "    <tr>\n",
       "      <th>Other</th>\n",
       "      <td>17150</td>\n",
       "    </tr>\n",
       "    <tr>\n",
       "      <th>Raining + high winds</th>\n",
       "      <td>9615</td>\n",
       "    </tr>\n",
       "    <tr>\n",
       "      <th>Fine + high winds</th>\n",
       "      <td>8554</td>\n",
       "    </tr>\n",
       "    <tr>\n",
       "      <th>Snowing no high winds</th>\n",
       "      <td>6238</td>\n",
       "    </tr>\n",
       "    <tr>\n",
       "      <th>Fog or mist</th>\n",
       "      <td>3528</td>\n",
       "    </tr>\n",
       "    <tr>\n",
       "      <th>Snowing + high winds</th>\n",
       "      <td>885</td>\n",
       "    </tr>\n",
       "  </tbody>\n",
       "</table>\n",
       "</div>"
      ],
      "text/plain": [
       "                        count\n",
       "Weather_Conditions           \n",
       "Fine no high winds     520885\n",
       "Raining no high winds   79696\n",
       "Other                   17150\n",
       "Raining + high winds     9615\n",
       "Fine + high winds        8554\n",
       "Snowing no high winds    6238\n",
       "Fog or mist              3528\n",
       "Snowing + high winds      885"
      ]
     },
     "metadata": {},
     "output_type": "display_data"
    }
   ],
   "source": [
    "weather_counts = acci[\"Weather_Conditions\"].value_counts()\n",
    "\n",
    "print(\"Accidents by Weather Conditions:\")\n",
    "display(weather_counts.to_frame())\n"
   ]
  },
  {
   "cell_type": "markdown",
   "id": "d522521e-6ebf-4d26-a12d-82900a1261fe",
   "metadata": {},
   "source": [
    "<h3>About 80% of accidents occur in clear weather , suggesting that driver behavior is a bigger factor than weather conditions</h3>"
   ]
  },
  {
   "cell_type": "code",
   "execution_count": null,
   "id": "6682f6e3-f1ad-4e8d-80b2-98b705df1faa",
   "metadata": {},
   "outputs": [],
   "source": []
  },
  {
   "cell_type": "code",
   "execution_count": null,
   "id": "4519f145-012b-45e3-97c7-ffe4f1541f11",
   "metadata": {},
   "outputs": [],
   "source": []
  },
  {
   "cell_type": "markdown",
   "id": "445fae13-7aa5-4f06-8341-0049b2a517ef",
   "metadata": {},
   "source": [
    "<h1>---------------------------------------------------------------------------------</h1>"
   ]
  },
  {
   "cell_type": "markdown",
   "id": "62f7597b-92a3-482f-af4f-6776688648be",
   "metadata": {},
   "source": [
    "<h1>INSIGHT NO.6 - Do more accidents occur in urban or rural areas?</h1>"
   ]
  },
  {
   "cell_type": "code",
   "execution_count": 43,
   "id": "aa2383f1-c48d-4c91-b478-9f8342786a32",
   "metadata": {},
   "outputs": [
    {
     "name": "stdout",
     "output_type": "stream",
     "text": [
      "Urban vs Rural Accidents:\n"
     ]
    },
    {
     "data": {
      "text/html": [
       "<div>\n",
       "<style scoped>\n",
       "    .dataframe tbody tr th:only-of-type {\n",
       "        vertical-align: middle;\n",
       "    }\n",
       "\n",
       "    .dataframe tbody tr th {\n",
       "        vertical-align: top;\n",
       "    }\n",
       "\n",
       "    .dataframe thead th {\n",
       "        text-align: right;\n",
       "    }\n",
       "</style>\n",
       "<table border=\"1\" class=\"dataframe\">\n",
       "  <thead>\n",
       "    <tr style=\"text-align: right;\">\n",
       "      <th></th>\n",
       "      <th>count</th>\n",
       "    </tr>\n",
       "    <tr>\n",
       "      <th>Urban_or_Rural_Area</th>\n",
       "      <th></th>\n",
       "    </tr>\n",
       "  </thead>\n",
       "  <tbody>\n",
       "    <tr>\n",
       "      <th>Urban</th>\n",
       "      <td>421663</td>\n",
       "    </tr>\n",
       "    <tr>\n",
       "      <th>Rural</th>\n",
       "      <td>238990</td>\n",
       "    </tr>\n",
       "    <tr>\n",
       "      <th>Unallocated</th>\n",
       "      <td>11</td>\n",
       "    </tr>\n",
       "  </tbody>\n",
       "</table>\n",
       "</div>"
      ],
      "text/plain": [
       "                      count\n",
       "Urban_or_Rural_Area        \n",
       "Urban                421663\n",
       "Rural                238990\n",
       "Unallocated              11"
      ]
     },
     "metadata": {},
     "output_type": "display_data"
    }
   ],
   "source": [
    "urban_rural_counts = acci[\"Urban_or_Rural_Area\"].value_counts()\n",
    "\n",
    "print(\"Urban vs Rural Accidents:\")\n",
    "display(urban_rural_counts.to_frame())\n"
   ]
  },
  {
   "cell_type": "markdown",
   "id": "eda57417-52ef-4901-af3c-97b71539a610",
   "metadata": {},
   "source": [
    "<h3> Accidents are higher in urban areas due to traffic congestion and pedestrian activity</h3>"
   ]
  },
  {
   "cell_type": "code",
   "execution_count": null,
   "id": "ea5e7dcd-22be-4eaa-bd8c-5c2a3b5f8ccd",
   "metadata": {},
   "outputs": [],
   "source": []
  },
  {
   "cell_type": "markdown",
   "id": "562cb61c-6f07-404a-9dc5-e2901e891601",
   "metadata": {},
   "source": [
    "<h1>---------------------------------------------------------------------------------</h1>"
   ]
  },
  {
   "cell_type": "markdown",
   "id": "4ce320c8-558c-46f4-81f2-8dfccb3239b4",
   "metadata": {},
   "source": [
    "<h1>INSIGHT NO.7 - Which road type has the most accidents?</h1>"
   ]
  },
  {
   "cell_type": "code",
   "execution_count": 44,
   "id": "5ce44c21-0c13-4683-b098-4f24624643ea",
   "metadata": {},
   "outputs": [
    {
     "name": "stdout",
     "output_type": "stream",
     "text": [
      "Accidents by Road Type:\n"
     ]
    },
    {
     "data": {
      "text/html": [
       "<div>\n",
       "<style scoped>\n",
       "    .dataframe tbody tr th:only-of-type {\n",
       "        vertical-align: middle;\n",
       "    }\n",
       "\n",
       "    .dataframe tbody tr th {\n",
       "        vertical-align: top;\n",
       "    }\n",
       "\n",
       "    .dataframe thead th {\n",
       "        text-align: right;\n",
       "    }\n",
       "</style>\n",
       "<table border=\"1\" class=\"dataframe\">\n",
       "  <thead>\n",
       "    <tr style=\"text-align: right;\">\n",
       "      <th></th>\n",
       "      <th>count</th>\n",
       "    </tr>\n",
       "    <tr>\n",
       "      <th>Road_Type</th>\n",
       "      <th></th>\n",
       "    </tr>\n",
       "  </thead>\n",
       "  <tbody>\n",
       "    <tr>\n",
       "      <th>Single carriageway</th>\n",
       "      <td>492143</td>\n",
       "    </tr>\n",
       "    <tr>\n",
       "      <th>Dual carriageway</th>\n",
       "      <td>99424</td>\n",
       "    </tr>\n",
       "    <tr>\n",
       "      <th>Roundabout</th>\n",
       "      <td>43992</td>\n",
       "    </tr>\n",
       "    <tr>\n",
       "      <th>One way street</th>\n",
       "      <td>13559</td>\n",
       "    </tr>\n",
       "    <tr>\n",
       "      <th>Slip road</th>\n",
       "      <td>7041</td>\n",
       "    </tr>\n",
       "  </tbody>\n",
       "</table>\n",
       "</div>"
      ],
      "text/plain": [
       "                     count\n",
       "Road_Type                 \n",
       "Single carriageway  492143\n",
       "Dual carriageway     99424\n",
       "Roundabout           43992\n",
       "One way street       13559\n",
       "Slip road             7041"
      ]
     },
     "metadata": {},
     "output_type": "display_data"
    }
   ],
   "source": [
    "road_types = acci[\"Road_Type\"].value_counts()\n",
    "\n",
    "print(\"Accidents by Road Type:\")\n",
    "display(road_types.to_frame())\n"
   ]
  },
  {
   "cell_type": "markdown",
   "id": "a239363c-9b0c-4497-8897-daa053709f6e",
   "metadata": {},
   "source": [
    "<h3>Highways and major roads have the most accidents due to higher speeds and merging lanes</h3>"
   ]
  },
  {
   "cell_type": "code",
   "execution_count": 46,
   "id": "5efc8c4a-3842-4009-b1d7-3724c3392035",
   "metadata": {},
   "outputs": [
    {
     "name": "stdout",
     "output_type": "stream",
     "text": [
      "<class 'pandas.core.frame.DataFrame'>\n",
      "RangeIndex: 660679 entries, 0 to 660678\n",
      "Data columns (total 18 columns):\n",
      " #   Column                   Non-Null Count   Dtype         \n",
      "---  ------                   --------------   -----         \n",
      " 0   Index                    660679 non-null  object        \n",
      " 1   Accident_Severity        660679 non-null  object        \n",
      " 2   Accident Date            265007 non-null  datetime64[ns]\n",
      " 3   Latitude                 660654 non-null  float64       \n",
      " 4   Light_Conditions         660679 non-null  object        \n",
      " 5   District Area            660679 non-null  object        \n",
      " 6   Longitude                660653 non-null  float64       \n",
      " 7   Number_of_Casualties     660679 non-null  int64         \n",
      " 8   Number_of_Vehicles       660679 non-null  int64         \n",
      " 9   Road_Surface_Conditions  659953 non-null  object        \n",
      " 10  Road_Type                656159 non-null  object        \n",
      " 11  Urban_or_Rural_Area      660664 non-null  object        \n",
      " 12  Weather_Conditions       646551 non-null  object        \n",
      " 13  Vehicle_Type             660679 non-null  object        \n",
      " 14  Hour                     265007 non-null  float64       \n",
      " 15  Month                    265007 non-null  float64       \n",
      " 16  Weekday                  265007 non-null  object        \n",
      " 17  Year                     265007 non-null  float64       \n",
      "dtypes: datetime64[ns](1), float64(5), int64(2), object(10)\n",
      "memory usage: 90.7+ MB\n"
     ]
    }
   ],
   "source": [
    "acci.info()"
   ]
  },
  {
   "cell_type": "code",
   "execution_count": null,
   "id": "1e80a89b-0362-4936-9419-0b438152f592",
   "metadata": {},
   "outputs": [],
   "source": []
  },
  {
   "cell_type": "markdown",
   "id": "4fb4367b-b395-4941-bb28-59a0c98c90b3",
   "metadata": {},
   "source": [
    "<h1>---------------------------------------------------------------------------------</h1>"
   ]
  },
  {
   "cell_type": "markdown",
   "id": "147e9520-0287-466a-a4df-921179cc60ab",
   "metadata": {},
   "source": [
    "<h1>INSIGHT NO.8 - Vehicles involved Per Accident Severity</h1>"
   ]
  },
  {
   "cell_type": "code",
   "execution_count": null,
   "id": "85acad52-c2ad-4cd7-8bfb-f5958d3c2d98",
   "metadata": {},
   "outputs": [],
   "source": []
  },
  {
   "cell_type": "code",
   "execution_count": 48,
   "id": "d729e0bc-3dd0-4ac7-b4e4-ec35b1941401",
   "metadata": {},
   "outputs": [
    {
     "name": "stdout",
     "output_type": "stream",
     "text": [
      "Average Number of Vehicles Involved by Accident Severity:\n",
      "Accident_Severity\n",
      "Fatal      1.786976\n",
      "Serious    1.678327\n",
      "Slight     1.855864\n",
      "Name: Number_of_Vehicles, dtype: float64\n"
     ]
    }
   ],
   "source": [
    "severity_vehicle_counts = acci.groupby(\"Accident_Severity\")[\"Number_of_Vehicles\"].mean()\n",
    "\n",
    "print(\"Average Number of Vehicles Involved by Accident Severity:\")\n",
    "print(severity_vehicle_counts)\n"
   ]
  },
  {
   "cell_type": "markdown",
   "id": "2377d859-d7bf-4602-a3c1-27b518137ca7",
   "metadata": {},
   "source": [
    "<h3>Severe accidents involve more vehicles on average compared to slight accidents</h3>"
   ]
  },
  {
   "cell_type": "code",
   "execution_count": null,
   "id": "4c1c4130-d2cd-4853-b000-29305531faeb",
   "metadata": {},
   "outputs": [],
   "source": []
  },
  {
   "cell_type": "markdown",
   "id": "8e44b5e3-dcfc-45ed-86a2-22f3b0e36725",
   "metadata": {},
   "source": [
    "<h1>---------------------------------------------------------------------------------</h1>"
   ]
  },
  {
   "cell_type": "markdown",
   "id": "2b007cc7-eb81-4a46-92b6-0ed0cb05f906",
   "metadata": {},
   "source": [
    "<h1>INSIGHT NO.9 - What type of vehicle are involved in accidents?</h1>"
   ]
  },
  {
   "cell_type": "code",
   "execution_count": 50,
   "id": "13514a81-4921-4731-9636-932e000029a7",
   "metadata": {},
   "outputs": [
    {
     "name": "stdout",
     "output_type": "stream",
     "text": [
      "Top 5 Vehicle Types in Accidents:\n",
      "Vehicle_Type\n",
      "Car                                     497992\n",
      "Van / Goods 3.5 tonnes mgw or under      34160\n",
      "Bus or coach (17 or more pass seats)     25878\n",
      "Motorcycle over 500cc                    25657\n",
      "Goods 7.5 tonnes mgw and over            17307\n",
      "Name: count, dtype: int64\n"
     ]
    }
   ],
   "source": [
    "vehicle_counts = acci[\"Vehicle_Type\"].value_counts().nlargest(5)\n",
    "\n",
    "print(\"Top 5 Vehicle Types in Accidents:\")\n",
    "print(vehicle_counts)\n"
   ]
  },
  {
   "cell_type": "markdown",
   "id": "bd929386-c43e-45d8-b9d7-6a2cb732f3bd",
   "metadata": {},
   "source": [
    "<h3>Cars are the most involved vehicle type in accidents. However, buses and motorcycles have a higher fatality rate</h3>"
   ]
  },
  {
   "cell_type": "code",
   "execution_count": null,
   "id": "7e64db7f-90a4-4ac2-adc8-8550d9787594",
   "metadata": {},
   "outputs": [],
   "source": []
  },
  {
   "cell_type": "markdown",
   "id": "ece48caf-2686-4f45-8198-0f87de01e0ce",
   "metadata": {},
   "source": [
    "<h1>---------------------------------------------------------------------------------</h1>"
   ]
  },
  {
   "cell_type": "markdown",
   "id": "21e6ec8b-ef0c-4aa7-8e8e-0a2b492ae289",
   "metadata": {},
   "source": [
    "<h1>INSIGHT NO.10 - Which day of the week has the highest accident severity?</h1>"
   ]
  },
  {
   "cell_type": "code",
   "execution_count": null,
   "id": "609c09e4-4279-4ea9-8dc8-b1d121794f72",
   "metadata": {},
   "outputs": [],
   "source": []
  },
  {
   "cell_type": "code",
   "execution_count": 60,
   "id": "8c5b2c56-78aa-4f15-904c-797ac39be79e",
   "metadata": {},
   "outputs": [
    {
     "name": "stdout",
     "output_type": "stream",
     "text": [
      "Accident Severity by Day of the Week (%):\n"
     ]
    },
    {
     "data": {
      "text/html": [
       "<div>\n",
       "<style scoped>\n",
       "    .dataframe tbody tr th:only-of-type {\n",
       "        vertical-align: middle;\n",
       "    }\n",
       "\n",
       "    .dataframe tbody tr th {\n",
       "        vertical-align: top;\n",
       "    }\n",
       "\n",
       "    .dataframe thead th {\n",
       "        text-align: right;\n",
       "    }\n",
       "</style>\n",
       "<table border=\"1\" class=\"dataframe\">\n",
       "  <thead>\n",
       "    <tr style=\"text-align: right;\">\n",
       "      <th></th>\n",
       "      <th></th>\n",
       "      <th>proportion</th>\n",
       "    </tr>\n",
       "    <tr>\n",
       "      <th>Weekday</th>\n",
       "      <th>Accident_Severity</th>\n",
       "      <th></th>\n",
       "    </tr>\n",
       "  </thead>\n",
       "  <tbody>\n",
       "    <tr>\n",
       "      <th rowspan=\"3\" valign=\"top\">Friday</th>\n",
       "      <th>Slight</th>\n",
       "      <td>85.253564</td>\n",
       "    </tr>\n",
       "    <tr>\n",
       "      <th>Serious</th>\n",
       "      <td>13.458492</td>\n",
       "    </tr>\n",
       "    <tr>\n",
       "      <th>Fatal</th>\n",
       "      <td>1.287944</td>\n",
       "    </tr>\n",
       "    <tr>\n",
       "      <th rowspan=\"3\" valign=\"top\">Monday</th>\n",
       "      <th>Slight</th>\n",
       "      <td>84.653507</td>\n",
       "    </tr>\n",
       "    <tr>\n",
       "      <th>Serious</th>\n",
       "      <td>13.907322</td>\n",
       "    </tr>\n",
       "    <tr>\n",
       "      <th>Fatal</th>\n",
       "      <td>1.439171</td>\n",
       "    </tr>\n",
       "    <tr>\n",
       "      <th rowspan=\"3\" valign=\"top\">Saturday</th>\n",
       "      <th>Slight</th>\n",
       "      <td>85.592435</td>\n",
       "    </tr>\n",
       "    <tr>\n",
       "      <th>Serious</th>\n",
       "      <td>13.138725</td>\n",
       "    </tr>\n",
       "    <tr>\n",
       "      <th>Fatal</th>\n",
       "      <td>1.268841</td>\n",
       "    </tr>\n",
       "    <tr>\n",
       "      <th rowspan=\"3\" valign=\"top\">Sunday</th>\n",
       "      <th>Slight</th>\n",
       "      <td>85.454834</td>\n",
       "    </tr>\n",
       "    <tr>\n",
       "      <th>Serious</th>\n",
       "      <td>13.266441</td>\n",
       "    </tr>\n",
       "    <tr>\n",
       "      <th>Fatal</th>\n",
       "      <td>1.278725</td>\n",
       "    </tr>\n",
       "    <tr>\n",
       "      <th rowspan=\"3\" valign=\"top\">Thursday</th>\n",
       "      <th>Slight</th>\n",
       "      <td>85.358731</td>\n",
       "    </tr>\n",
       "    <tr>\n",
       "      <th>Serious</th>\n",
       "      <td>13.228446</td>\n",
       "    </tr>\n",
       "    <tr>\n",
       "      <th>Fatal</th>\n",
       "      <td>1.412823</td>\n",
       "    </tr>\n",
       "    <tr>\n",
       "      <th rowspan=\"3\" valign=\"top\">Tuesday</th>\n",
       "      <th>Slight</th>\n",
       "      <td>85.592302</td>\n",
       "    </tr>\n",
       "    <tr>\n",
       "      <th>Serious</th>\n",
       "      <td>13.100426</td>\n",
       "    </tr>\n",
       "    <tr>\n",
       "      <th>Fatal</th>\n",
       "      <td>1.307272</td>\n",
       "    </tr>\n",
       "    <tr>\n",
       "      <th rowspan=\"3\" valign=\"top\">Wednesday</th>\n",
       "      <th>Slight</th>\n",
       "      <td>85.567807</td>\n",
       "    </tr>\n",
       "    <tr>\n",
       "      <th>Serious</th>\n",
       "      <td>13.164483</td>\n",
       "    </tr>\n",
       "    <tr>\n",
       "      <th>Fatal</th>\n",
       "      <td>1.267711</td>\n",
       "    </tr>\n",
       "  </tbody>\n",
       "</table>\n",
       "</div>"
      ],
      "text/plain": [
       "                             proportion\n",
       "Weekday   Accident_Severity            \n",
       "Friday    Slight              85.253564\n",
       "          Serious             13.458492\n",
       "          Fatal                1.287944\n",
       "Monday    Slight              84.653507\n",
       "          Serious             13.907322\n",
       "          Fatal                1.439171\n",
       "Saturday  Slight              85.592435\n",
       "          Serious             13.138725\n",
       "          Fatal                1.268841\n",
       "Sunday    Slight              85.454834\n",
       "          Serious             13.266441\n",
       "          Fatal                1.278725\n",
       "Thursday  Slight              85.358731\n",
       "          Serious             13.228446\n",
       "          Fatal                1.412823\n",
       "Tuesday   Slight              85.592302\n",
       "          Serious             13.100426\n",
       "          Fatal                1.307272\n",
       "Wednesday Slight              85.567807\n",
       "          Serious             13.164483\n",
       "          Fatal                1.267711"
      ]
     },
     "metadata": {},
     "output_type": "display_data"
    }
   ],
   "source": [
    "weekday_severity = acci.groupby(\"Weekday\")[\"Accident_Severity\"].value_counts(normalize=True) * 100\n",
    "\n",
    "print(\"Accident Severity by Day of the Week (%):\")\n",
    "display(weekday_severity.to_frame())\n"
   ]
  },
  {
   "cell_type": "markdown",
   "id": "6b6da389-07d5-4a43-a197-502bd389b226",
   "metadata": {},
   "source": [
    "<h3>Friday and saturday have the highest accident counts, likely due to weekend travel and nightlife</h3>"
   ]
  },
  {
   "cell_type": "markdown",
   "id": "fcd9421c-1b64-4079-8837-2583c4ef84cd",
   "metadata": {},
   "source": [
    "<h1>---------------------------------------------------------------------------------</h1>"
   ]
  },
  {
   "cell_type": "markdown",
   "id": "e0e67837-0fdc-42bb-ab51-b06eec777c32",
   "metadata": {},
   "source": [
    "<h1>Insight NO.11 - How does accident severity change across different road types?</h1>"
   ]
  },
  {
   "cell_type": "code",
   "execution_count": null,
   "id": "8161712b-333f-4b7d-9e93-ba06e42f4f42",
   "metadata": {},
   "outputs": [],
   "source": []
  },
  {
   "cell_type": "code",
   "execution_count": 63,
   "id": "6f0847eb-4c42-41c5-aa04-869562489ead",
   "metadata": {},
   "outputs": [
    {
     "name": "stdout",
     "output_type": "stream",
     "text": [
      "Accident Severity by Road Type (%):\n"
     ]
    },
    {
     "data": {
      "text/html": [
       "<div>\n",
       "<style scoped>\n",
       "    .dataframe tbody tr th:only-of-type {\n",
       "        vertical-align: middle;\n",
       "    }\n",
       "\n",
       "    .dataframe tbody tr th {\n",
       "        vertical-align: top;\n",
       "    }\n",
       "\n",
       "    .dataframe thead th {\n",
       "        text-align: right;\n",
       "    }\n",
       "</style>\n",
       "<table border=\"1\" class=\"dataframe\">\n",
       "  <thead>\n",
       "    <tr style=\"text-align: right;\">\n",
       "      <th></th>\n",
       "      <th></th>\n",
       "      <th>proportion</th>\n",
       "    </tr>\n",
       "    <tr>\n",
       "      <th>Road_Type</th>\n",
       "      <th>Accident_Severity</th>\n",
       "      <th></th>\n",
       "    </tr>\n",
       "  </thead>\n",
       "  <tbody>\n",
       "    <tr>\n",
       "      <th rowspan=\"3\" valign=\"top\">Dual carriageway</th>\n",
       "      <th>Slight</th>\n",
       "      <td>86.360436</td>\n",
       "    </tr>\n",
       "    <tr>\n",
       "      <th>Serious</th>\n",
       "      <td>11.814049</td>\n",
       "    </tr>\n",
       "    <tr>\n",
       "      <th>Fatal</th>\n",
       "      <td>1.825515</td>\n",
       "    </tr>\n",
       "    <tr>\n",
       "      <th rowspan=\"3\" valign=\"top\">One way street</th>\n",
       "      <th>Slight</th>\n",
       "      <td>87.093443</td>\n",
       "    </tr>\n",
       "    <tr>\n",
       "      <th>Serious</th>\n",
       "      <td>12.205915</td>\n",
       "    </tr>\n",
       "    <tr>\n",
       "      <th>Fatal</th>\n",
       "      <td>0.700642</td>\n",
       "    </tr>\n",
       "    <tr>\n",
       "      <th rowspan=\"3\" valign=\"top\">Roundabout</th>\n",
       "      <th>Slight</th>\n",
       "      <td>91.346154</td>\n",
       "    </tr>\n",
       "    <tr>\n",
       "      <th>Serious</th>\n",
       "      <td>8.331060</td>\n",
       "    </tr>\n",
       "    <tr>\n",
       "      <th>Fatal</th>\n",
       "      <td>0.322786</td>\n",
       "    </tr>\n",
       "    <tr>\n",
       "      <th rowspan=\"3\" valign=\"top\">Single carriageway</th>\n",
       "      <th>Slight</th>\n",
       "      <td>84.438263</td>\n",
       "    </tr>\n",
       "    <tr>\n",
       "      <th>Serious</th>\n",
       "      <td>14.235497</td>\n",
       "    </tr>\n",
       "    <tr>\n",
       "      <th>Fatal</th>\n",
       "      <td>1.326241</td>\n",
       "    </tr>\n",
       "    <tr>\n",
       "      <th rowspan=\"3\" valign=\"top\">Slip road</th>\n",
       "      <th>Slight</th>\n",
       "      <td>90.626331</td>\n",
       "    </tr>\n",
       "    <tr>\n",
       "      <th>Serious</th>\n",
       "      <td>8.677745</td>\n",
       "    </tr>\n",
       "    <tr>\n",
       "      <th>Fatal</th>\n",
       "      <td>0.695924</td>\n",
       "    </tr>\n",
       "  </tbody>\n",
       "</table>\n",
       "</div>"
      ],
      "text/plain": [
       "                                      proportion\n",
       "Road_Type          Accident_Severity            \n",
       "Dual carriageway   Slight              86.360436\n",
       "                   Serious             11.814049\n",
       "                   Fatal                1.825515\n",
       "One way street     Slight              87.093443\n",
       "                   Serious             12.205915\n",
       "                   Fatal                0.700642\n",
       "Roundabout         Slight              91.346154\n",
       "                   Serious              8.331060\n",
       "                   Fatal                0.322786\n",
       "Single carriageway Slight              84.438263\n",
       "                   Serious             14.235497\n",
       "                   Fatal                1.326241\n",
       "Slip road          Slight              90.626331\n",
       "                   Serious              8.677745\n",
       "                   Fatal                0.695924"
      ]
     },
     "metadata": {},
     "output_type": "display_data"
    }
   ],
   "source": [
    "road_severity = acci.groupby(\"Road_Type\")[\"Accident_Severity\"].value_counts(normalize=True) * 100\n",
    "\n",
    "print(\"Accident Severity by Road Type (%):\")\n",
    "display(road_severity.to_frame())\n"
   ]
  },
  {
   "cell_type": "code",
   "execution_count": null,
   "id": "47579a91-f3dc-4f24-bcbe-03f6c35c2fdf",
   "metadata": {},
   "outputs": [],
   "source": []
  },
  {
   "cell_type": "markdown",
   "id": "cd1f90b8-ce14-41cf-bc62-e5efb35f8e28",
   "metadata": {},
   "source": [
    "<h3>Sever accidents are more common on motorways and rural roads due to higher speeds.</h3>"
   ]
  },
  {
   "cell_type": "code",
   "execution_count": null,
   "id": "2e90d7ec-cd68-417e-89a6-4d5876913a35",
   "metadata": {},
   "outputs": [],
   "source": []
  },
  {
   "cell_type": "markdown",
   "id": "4bed64d6-e0f2-405c-a8ff-21267a388f21",
   "metadata": {},
   "source": [
    "<h1>---------------------------------------------------------------------------------</h1>"
   ]
  },
  {
   "cell_type": "markdown",
   "id": "0f80b766-df42-4b28-b6a0-32b5f6edf69f",
   "metadata": {},
   "source": [
    "<h1>INSIGHT NO.12 - Do weather condition affects accident severity</h1>"
   ]
  },
  {
   "cell_type": "code",
   "execution_count": 73,
   "id": "78e20943-dcfc-4bb1-9a81-516cca7dceae",
   "metadata": {},
   "outputs": [
    {
     "data": {
      "text/plain": [
       "Weather_Conditions     Accident_Severity\n",
       "Fine + high winds      Slight                 7134\n",
       "                       Serious                1245\n",
       "                       Fatal                   175\n",
       "Fine no high winds     Slight               441739\n",
       "                       Serious               72046\n",
       "                       Fatal                  7100\n",
       "Fog or mist            Slight                 2963\n",
       "                       Serious                 483\n",
       "                       Fatal                    82\n",
       "Other                  Slight                15184\n",
       "                       Serious                1801\n",
       "                       Fatal                   165\n",
       "Raining + high winds   Slight                 8209\n",
       "                       Serious                1261\n",
       "                       Fatal                   145\n",
       "Raining no high winds  Slight                69380\n",
       "                       Serious                9468\n",
       "                       Fatal                   848\n",
       "Snowing + high winds   Slight                  773\n",
       "                       Serious                 109\n",
       "                       Fatal                     3\n",
       "Snowing no high winds  Slight                 5637\n",
       "                       Serious                 565\n",
       "                       Fatal                    36\n",
       "Name: count, dtype: int64"
      ]
     },
     "execution_count": 73,
     "metadata": {},
     "output_type": "execute_result"
    }
   ],
   "source": [
    "acci.groupby(\"Weather_Conditions\")[\"Accident_Severity\"].value_counts()\n"
   ]
  },
  {
   "cell_type": "markdown",
   "id": "01aad0cf-a614-478f-a0a2-7471fb1b748e",
   "metadata": {},
   "source": [
    "<h3>Even in adverse weather conditions like rain fog, accident severity does not increase significantly . This suggests that drivers tend to exercise more caution in bad weather</h3>"
   ]
  },
  {
   "cell_type": "code",
   "execution_count": null,
   "id": "626f0bf0-a4ca-4b0c-a96c-85ff1d136677",
   "metadata": {},
   "outputs": [],
   "source": []
  },
  {
   "cell_type": "markdown",
   "id": "8d04365f-950a-4d44-9866-ac35e05aa732",
   "metadata": {},
   "source": [
    "<h1>---------------------------------------------------------------------------------</h1>"
   ]
  },
  {
   "cell_type": "markdown",
   "id": "9364193d-3557-4320-a5a0-dc4a8bd60e7b",
   "metadata": {},
   "source": [
    "<h1>INSIGHT NO.13 - How does the number of casualties vary by accident severity?</h1>"
   ]
  },
  {
   "cell_type": "code",
   "execution_count": null,
   "id": "8b236ac1-b37a-4ed1-ad4d-fcfda65237c0",
   "metadata": {},
   "outputs": [],
   "source": []
  },
  {
   "cell_type": "code",
   "execution_count": null,
   "id": "d9cd9f13-c598-4113-a339-f0b1b1902508",
   "metadata": {},
   "outputs": [],
   "source": []
  },
  {
   "cell_type": "code",
   "execution_count": 88,
   "id": "70c3b099-d538-433a-bdb1-88c89e2a9204",
   "metadata": {},
   "outputs": [
    {
     "name": "stdout",
     "output_type": "stream",
     "text": [
      "Average Number of Casualties per Severity Level:\n"
     ]
    },
    {
     "data": {
      "text/html": [
       "<div>\n",
       "<style scoped>\n",
       "    .dataframe tbody tr th:only-of-type {\n",
       "        vertical-align: middle;\n",
       "    }\n",
       "\n",
       "    .dataframe tbody tr th {\n",
       "        vertical-align: top;\n",
       "    }\n",
       "\n",
       "    .dataframe thead th {\n",
       "        text-align: right;\n",
       "    }\n",
       "</style>\n",
       "<table border=\"1\" class=\"dataframe\">\n",
       "  <thead>\n",
       "    <tr style=\"text-align: right;\">\n",
       "      <th></th>\n",
       "      <th>Number_of_Casualties</th>\n",
       "    </tr>\n",
       "    <tr>\n",
       "      <th>Accident_Severity</th>\n",
       "      <th></th>\n",
       "    </tr>\n",
       "  </thead>\n",
       "  <tbody>\n",
       "    <tr>\n",
       "      <th>Fatal</th>\n",
       "      <td>1.903129</td>\n",
       "    </tr>\n",
       "    <tr>\n",
       "      <th>Serious</th>\n",
       "      <td>1.467280</td>\n",
       "    </tr>\n",
       "    <tr>\n",
       "      <th>Slight</th>\n",
       "      <td>1.331402</td>\n",
       "    </tr>\n",
       "  </tbody>\n",
       "</table>\n",
       "</div>"
      ],
      "text/plain": [
       "                   Number_of_Casualties\n",
       "Accident_Severity                      \n",
       "Fatal                          1.903129\n",
       "Serious                        1.467280\n",
       "Slight                         1.331402"
      ]
     },
     "metadata": {},
     "output_type": "display_data"
    }
   ],
   "source": [
    "casualties_per_severity = acci.groupby(\"Accident_Severity\")[\"Number_of_Casualties\"].mean()\n",
    "print(\"Average Number of Casualties per Severity Level:\")\n",
    "display(casualties_per_severity.to_frame())\n"
   ]
  },
  {
   "cell_type": "markdown",
   "id": "1fcfeec8-b63d-4308-b91f-68a5b53cad0a",
   "metadata": {},
   "source": [
    "<h3>Fatal accidents involve more casualties on average, as they often inlcude high-speed collisions</h3>"
   ]
  },
  {
   "cell_type": "code",
   "execution_count": null,
   "id": "f48a08b8-cf4a-4c59-abfa-439e9a39bb07",
   "metadata": {},
   "outputs": [],
   "source": []
  },
  {
   "cell_type": "code",
   "execution_count": null,
   "id": "cf5792b4-a6ae-4590-818a-0925b6385add",
   "metadata": {},
   "outputs": [],
   "source": []
  },
  {
   "cell_type": "code",
   "execution_count": null,
   "id": "c088682c-7d4e-4bd3-ae27-8df0845717aa",
   "metadata": {},
   "outputs": [],
   "source": []
  },
  {
   "cell_type": "code",
   "execution_count": null,
   "id": "cc4b59db-7593-4ab3-ae1a-18dcf06948b7",
   "metadata": {},
   "outputs": [],
   "source": []
  },
  {
   "cell_type": "code",
   "execution_count": null,
   "id": "3bfd41e1-2332-42c9-8990-0024198b0ab6",
   "metadata": {},
   "outputs": [],
   "source": []
  },
  {
   "cell_type": "markdown",
   "id": "8e937203-18d3-429b-9cd3-44c9dac67b06",
   "metadata": {},
   "source": [
    "<h1>---------------------------------------------------------------------------------</h1>"
   ]
  },
  {
   "cell_type": "markdown",
   "id": "c9ed0e2b-30bf-405b-8107-f51efa9687e0",
   "metadata": {},
   "source": [
    "<h1>INSIGHT NO.14 - What is the distribution of accident severity?</h1>"
   ]
  },
  {
   "cell_type": "code",
   "execution_count": null,
   "id": "b475c2c8-8f42-430d-aa5c-4266e841fb3d",
   "metadata": {},
   "outputs": [],
   "source": []
  },
  {
   "cell_type": "code",
   "execution_count": null,
   "id": "16f96206-18de-4bd2-8151-0a70ac243c82",
   "metadata": {},
   "outputs": [],
   "source": []
  },
  {
   "cell_type": "code",
   "execution_count": 76,
   "id": "9c308f23-4169-4aad-b441-1b1b8e558e3a",
   "metadata": {},
   "outputs": [
    {
     "name": "stdout",
     "output_type": "stream",
     "text": [
      "Percentage of Accidents by Severity Level:\n"
     ]
    },
    {
     "data": {
      "text/html": [
       "<div>\n",
       "<style scoped>\n",
       "    .dataframe tbody tr th:only-of-type {\n",
       "        vertical-align: middle;\n",
       "    }\n",
       "\n",
       "    .dataframe tbody tr th {\n",
       "        vertical-align: top;\n",
       "    }\n",
       "\n",
       "    .dataframe thead th {\n",
       "        text-align: right;\n",
       "    }\n",
       "</style>\n",
       "<table border=\"1\" class=\"dataframe\">\n",
       "  <thead>\n",
       "    <tr style=\"text-align: right;\">\n",
       "      <th></th>\n",
       "      <th>proportion</th>\n",
       "    </tr>\n",
       "    <tr>\n",
       "      <th>Accident_Severity</th>\n",
       "      <th></th>\n",
       "    </tr>\n",
       "  </thead>\n",
       "  <tbody>\n",
       "    <tr>\n",
       "      <th>Slight</th>\n",
       "      <td>85.336601</td>\n",
       "    </tr>\n",
       "    <tr>\n",
       "      <th>Serious</th>\n",
       "      <td>13.352475</td>\n",
       "    </tr>\n",
       "    <tr>\n",
       "      <th>Fatal</th>\n",
       "      <td>1.310924</td>\n",
       "    </tr>\n",
       "  </tbody>\n",
       "</table>\n",
       "</div>"
      ],
      "text/plain": [
       "                   proportion\n",
       "Accident_Severity            \n",
       "Slight              85.336601\n",
       "Serious             13.352475\n",
       "Fatal                1.310924"
      ]
     },
     "metadata": {},
     "output_type": "display_data"
    }
   ],
   "source": [
    "severity_counts = acci[\"Accident_Severity\"].value_counts(normalize=True) * 100\n",
    "print(\"Percentage of Accidents by Severity Level:\")\n",
    "display(severity_counts.to_frame())\n"
   ]
  },
  {
   "cell_type": "markdown",
   "id": "4a5042c0-3190-4110-8b97-2278b212ec36",
   "metadata": {},
   "source": [
    "<h3>Most accidents are slight but serious and fatal accidents are more common on highways and at high-speed limits</h3>"
   ]
  },
  {
   "cell_type": "code",
   "execution_count": null,
   "id": "24852d64-b808-4f26-ab3e-20da27727a45",
   "metadata": {},
   "outputs": [],
   "source": []
  },
  {
   "cell_type": "markdown",
   "id": "5c781161-505e-476d-8b18-d69ff1e3f875",
   "metadata": {},
   "source": [
    "<h1>---------------------------------------------------------------------------------</h1>"
   ]
  },
  {
   "cell_type": "markdown",
   "id": "7ae98ce0-b58c-4dc1-94fc-5927eaad2198",
   "metadata": {},
   "source": [
    "<h1>INSIGHT NO.15 - How does accident severity vary by road type?</h1>"
   ]
  },
  {
   "cell_type": "code",
   "execution_count": null,
   "id": "f6950cd4-0b7b-4b88-b453-bb03b82f1dea",
   "metadata": {},
   "outputs": [],
   "source": []
  },
  {
   "cell_type": "code",
   "execution_count": 77,
   "id": "6911d977-b14f-4fe6-8fd8-6d4598c6396c",
   "metadata": {},
   "outputs": [
    {
     "name": "stdout",
     "output_type": "stream",
     "text": [
      "Accident Severity by Road Type (%):\n"
     ]
    },
    {
     "data": {
      "text/html": [
       "<div>\n",
       "<style scoped>\n",
       "    .dataframe tbody tr th:only-of-type {\n",
       "        vertical-align: middle;\n",
       "    }\n",
       "\n",
       "    .dataframe tbody tr th {\n",
       "        vertical-align: top;\n",
       "    }\n",
       "\n",
       "    .dataframe thead th {\n",
       "        text-align: right;\n",
       "    }\n",
       "</style>\n",
       "<table border=\"1\" class=\"dataframe\">\n",
       "  <thead>\n",
       "    <tr style=\"text-align: right;\">\n",
       "      <th>Accident_Severity</th>\n",
       "      <th>Fatal</th>\n",
       "      <th>Serious</th>\n",
       "      <th>Slight</th>\n",
       "    </tr>\n",
       "    <tr>\n",
       "      <th>Road_Type</th>\n",
       "      <th></th>\n",
       "      <th></th>\n",
       "      <th></th>\n",
       "    </tr>\n",
       "  </thead>\n",
       "  <tbody>\n",
       "    <tr>\n",
       "      <th>Dual carriageway</th>\n",
       "      <td>1.825515</td>\n",
       "      <td>11.814049</td>\n",
       "      <td>86.360436</td>\n",
       "    </tr>\n",
       "    <tr>\n",
       "      <th>One way street</th>\n",
       "      <td>0.700642</td>\n",
       "      <td>12.205915</td>\n",
       "      <td>87.093443</td>\n",
       "    </tr>\n",
       "    <tr>\n",
       "      <th>Roundabout</th>\n",
       "      <td>0.322786</td>\n",
       "      <td>8.331060</td>\n",
       "      <td>91.346154</td>\n",
       "    </tr>\n",
       "    <tr>\n",
       "      <th>Single carriageway</th>\n",
       "      <td>1.326241</td>\n",
       "      <td>14.235497</td>\n",
       "      <td>84.438263</td>\n",
       "    </tr>\n",
       "    <tr>\n",
       "      <th>Slip road</th>\n",
       "      <td>0.695924</td>\n",
       "      <td>8.677745</td>\n",
       "      <td>90.626331</td>\n",
       "    </tr>\n",
       "  </tbody>\n",
       "</table>\n",
       "</div>"
      ],
      "text/plain": [
       "Accident_Severity      Fatal    Serious     Slight\n",
       "Road_Type                                         \n",
       "Dual carriageway    1.825515  11.814049  86.360436\n",
       "One way street      0.700642  12.205915  87.093443\n",
       "Roundabout          0.322786   8.331060  91.346154\n",
       "Single carriageway  1.326241  14.235497  84.438263\n",
       "Slip road           0.695924   8.677745  90.626331"
      ]
     },
     "metadata": {},
     "output_type": "display_data"
    }
   ],
   "source": [
    "road_severity = acci.groupby(\"Road_Type\")[\"Accident_Severity\"].value_counts(normalize=True).unstack() * 100\n",
    "print(\"Accident Severity by Road Type (%):\")\n",
    "display(road_severity)\n"
   ]
  },
  {
   "cell_type": "markdown",
   "id": "ae097a5a-0439-4e74-9a9c-2a2967b692bf",
   "metadata": {},
   "source": [
    "<h3>Highways have a higher percentage of serious and fatal accidents, while urban streets mainly see minor collisions</h3>"
   ]
  },
  {
   "cell_type": "code",
   "execution_count": null,
   "id": "a88b0aa8-ad13-4abf-aaa1-3e886c6e1d83",
   "metadata": {},
   "outputs": [],
   "source": []
  },
  {
   "cell_type": "markdown",
   "id": "b720c1d6-a888-457b-9fa1-df490d298a6e",
   "metadata": {},
   "source": [
    "<h1>---------------------------------------------------------------------------------</h1>"
   ]
  },
  {
   "cell_type": "markdown",
   "id": "be3b1676-0bc1-40b7-9b5d-33c8b1524067",
   "metadata": {},
   "source": [
    "<h1>INSIGHT NO.16 - Do accidents involving motorcycles have higher severity?</h1>"
   ]
  },
  {
   "cell_type": "code",
   "execution_count": null,
   "id": "b4cbdca1-8940-4e68-a550-baa7f260c53e",
   "metadata": {},
   "outputs": [],
   "source": []
  },
  {
   "cell_type": "code",
   "execution_count": 78,
   "id": "f2198f8a-d6f6-4d2c-b633-44df06c2b943",
   "metadata": {},
   "outputs": [
    {
     "name": "stdout",
     "output_type": "stream",
     "text": [
      "Motorcycle Accident Severity (%):\n"
     ]
    },
    {
     "data": {
      "text/html": [
       "<div>\n",
       "<style scoped>\n",
       "    .dataframe tbody tr th:only-of-type {\n",
       "        vertical-align: middle;\n",
       "    }\n",
       "\n",
       "    .dataframe tbody tr th {\n",
       "        vertical-align: top;\n",
       "    }\n",
       "\n",
       "    .dataframe thead th {\n",
       "        text-align: right;\n",
       "    }\n",
       "</style>\n",
       "<table border=\"1\" class=\"dataframe\">\n",
       "  <thead>\n",
       "    <tr style=\"text-align: right;\">\n",
       "      <th></th>\n",
       "      <th>proportion</th>\n",
       "    </tr>\n",
       "    <tr>\n",
       "      <th>Accident_Severity</th>\n",
       "      <th></th>\n",
       "    </tr>\n",
       "  </thead>\n",
       "  <tbody>\n",
       "    <tr>\n",
       "      <th>Slight</th>\n",
       "      <td>85.327045</td>\n",
       "    </tr>\n",
       "    <tr>\n",
       "      <th>Serious</th>\n",
       "      <td>13.377236</td>\n",
       "    </tr>\n",
       "    <tr>\n",
       "      <th>Fatal</th>\n",
       "      <td>1.295719</td>\n",
       "    </tr>\n",
       "  </tbody>\n",
       "</table>\n",
       "</div>"
      ],
      "text/plain": [
       "                   proportion\n",
       "Accident_Severity            \n",
       "Slight              85.327045\n",
       "Serious             13.377236\n",
       "Fatal                1.295719"
      ]
     },
     "metadata": {},
     "output_type": "display_data"
    }
   ],
   "source": [
    "bike_accidents = acci[acci[\"Vehicle_Type\"].str.contains(\"motorcycle\", case=False, na=False)]\n",
    "bike_severity = bike_accidents[\"Accident_Severity\"].value_counts(normalize=True) * 100\n",
    "print(\"Motorcycle Accident Severity (%):\")\n",
    "display(bike_severity.to_frame())\n"
   ]
  },
  {
   "cell_type": "markdown",
   "id": "351f7482-a9c8-4a45-834e-69ff4c723d1a",
   "metadata": {},
   "source": [
    "<h3>Motor accidents are more likely to be serious or fatal due to lack of protection compared to cars</h3>"
   ]
  },
  {
   "cell_type": "code",
   "execution_count": null,
   "id": "6f6914f5-ee3b-49cf-9f25-ab03888ba59c",
   "metadata": {},
   "outputs": [],
   "source": []
  },
  {
   "cell_type": "markdown",
   "id": "5bbc2ba4-501d-4162-a21c-c8388d509646",
   "metadata": {},
   "source": [
    "<h1>---------------------------------------------------------------------------------</h1>"
   ]
  },
  {
   "cell_type": "markdown",
   "id": "40602de0-0c08-4d4b-9305-d755d2a539ae",
   "metadata": {},
   "source": [
    "<h1>INSIGHT NO.17 - Are accidents more frequent at night compared to daytime?</h1>"
   ]
  },
  {
   "cell_type": "code",
   "execution_count": null,
   "id": "f5178463-967e-4484-a58e-54ddb2410cd7",
   "metadata": {},
   "outputs": [],
   "source": []
  },
  {
   "cell_type": "code",
   "execution_count": 81,
   "id": "94fb8d91-66b1-4380-854e-4f2f6f2700b0",
   "metadata": {},
   "outputs": [
    {
     "name": "stdout",
     "output_type": "stream",
     "text": [
      "Total Night Accidents: 175799\n",
      "Total Day Accidents: 484880\n"
     ]
    }
   ],
   "source": [
    "night_accidents = acci[acci[\"Light_Conditions\"].str.contains(\"Dark\", case=False, na=False)]\n",
    "day_accidents = acci.shape[0] - night_accidents.shape[0]\n",
    "\n",
    "print(f\"Total Night Accidents: {night_accidents.shape[0]}\")\n",
    "print(f\"Total Day Accidents: {day_accidents}\")\n"
   ]
  },
  {
   "cell_type": "markdown",
   "id": "5acaac67-d77d-4800-9108-349343bbf7dd",
   "metadata": {},
   "source": [
    "<h3>Accidents are more common in daytime, but night accidents  tend to be more severe due to reduced visibility and speeding</h3>"
   ]
  },
  {
   "cell_type": "code",
   "execution_count": null,
   "id": "f1feb52d-9928-4afb-a64d-49961d8b6b71",
   "metadata": {},
   "outputs": [],
   "source": []
  },
  {
   "cell_type": "markdown",
   "id": "4441f016-72aa-4b09-93be-2da8b9eaf072",
   "metadata": {},
   "source": [
    "<h1>---------------------------------------------------------------------------------</h1>"
   ]
  },
  {
   "cell_type": "markdown",
   "id": "4ecc94de-f1f4-4689-8696-b1962a432f88",
   "metadata": {},
   "source": [
    "<h1>INSIGHT NO.18 - How does road surface condition impact accidents?</h1>"
   ]
  },
  {
   "cell_type": "code",
   "execution_count": null,
   "id": "7e5d3cf3-5db2-4ab5-afb0-b26a155177ac",
   "metadata": {},
   "outputs": [],
   "source": []
  },
  {
   "cell_type": "code",
   "execution_count": 82,
   "id": "c3cbba34-3485-4288-9f44-cc85980d1b9c",
   "metadata": {},
   "outputs": [
    {
     "name": "stdout",
     "output_type": "stream",
     "text": [
      "Accidents by Road Surface Condition:\n"
     ]
    },
    {
     "data": {
      "text/html": [
       "<div>\n",
       "<style scoped>\n",
       "    .dataframe tbody tr th:only-of-type {\n",
       "        vertical-align: middle;\n",
       "    }\n",
       "\n",
       "    .dataframe tbody tr th {\n",
       "        vertical-align: top;\n",
       "    }\n",
       "\n",
       "    .dataframe thead th {\n",
       "        text-align: right;\n",
       "    }\n",
       "</style>\n",
       "<table border=\"1\" class=\"dataframe\">\n",
       "  <thead>\n",
       "    <tr style=\"text-align: right;\">\n",
       "      <th></th>\n",
       "      <th>count</th>\n",
       "    </tr>\n",
       "    <tr>\n",
       "      <th>Road_Surface_Conditions</th>\n",
       "      <th></th>\n",
       "    </tr>\n",
       "  </thead>\n",
       "  <tbody>\n",
       "    <tr>\n",
       "      <th>Dry</th>\n",
       "      <td>447821</td>\n",
       "    </tr>\n",
       "    <tr>\n",
       "      <th>Wet or damp</th>\n",
       "      <td>186708</td>\n",
       "    </tr>\n",
       "    <tr>\n",
       "      <th>Frost or ice</th>\n",
       "      <td>18517</td>\n",
       "    </tr>\n",
       "    <tr>\n",
       "      <th>Snow</th>\n",
       "      <td>5890</td>\n",
       "    </tr>\n",
       "    <tr>\n",
       "      <th>Flood over 3cm. deep</th>\n",
       "      <td>1017</td>\n",
       "    </tr>\n",
       "  </tbody>\n",
       "</table>\n",
       "</div>"
      ],
      "text/plain": [
       "                          count\n",
       "Road_Surface_Conditions        \n",
       "Dry                      447821\n",
       "Wet or damp              186708\n",
       "Frost or ice              18517\n",
       "Snow                       5890\n",
       "Flood over 3cm. deep       1017"
      ]
     },
     "metadata": {},
     "output_type": "display_data"
    }
   ],
   "source": [
    "road_surface_accidents = acci[\"Road_Surface_Conditions\"].value_counts()\n",
    "print(\"Accidents by Road Surface Condition:\")\n",
    "display(road_surface_accidents.to_frame())\n"
   ]
  },
  {
   "cell_type": "markdown",
   "id": "2c80658b-9114-4584-95a5-a80d25a4180c",
   "metadata": {},
   "source": [
    "<h3>Most accidents happen on dry roads,, but wet and icy roads increase accident severity</h3>"
   ]
  },
  {
   "cell_type": "code",
   "execution_count": null,
   "id": "e85ceb28-cce4-4575-b05d-555d0b180e10",
   "metadata": {},
   "outputs": [],
   "source": []
  },
  {
   "cell_type": "markdown",
   "id": "a7936819-e042-4005-b3d7-13f2245a5737",
   "metadata": {},
   "source": [
    "<h1>---------------------------------------------------------------------------------</h1>"
   ]
  },
  {
   "cell_type": "markdown",
   "id": "8a30cbb4-e354-4a47-98c1-7488c991d1fc",
   "metadata": {},
   "source": [
    "<h1>INSIGHT NO.19 - How does vehicle type impact accident severity?</h1>"
   ]
  },
  {
   "cell_type": "code",
   "execution_count": null,
   "id": "a2618ef9-2b3e-4568-beba-fc8dd8ede0cf",
   "metadata": {},
   "outputs": [],
   "source": []
  },
  {
   "cell_type": "code",
   "execution_count": 84,
   "id": "422b8ace-dfae-4ce8-b222-076b6b361a74",
   "metadata": {},
   "outputs": [
    {
     "name": "stdout",
     "output_type": "stream",
     "text": [
      "Accident Severity by Vehicle Type (%):\n"
     ]
    },
    {
     "data": {
      "text/html": [
       "<div>\n",
       "<style scoped>\n",
       "    .dataframe tbody tr th:only-of-type {\n",
       "        vertical-align: middle;\n",
       "    }\n",
       "\n",
       "    .dataframe tbody tr th {\n",
       "        vertical-align: top;\n",
       "    }\n",
       "\n",
       "    .dataframe thead th {\n",
       "        text-align: right;\n",
       "    }\n",
       "</style>\n",
       "<table border=\"1\" class=\"dataframe\">\n",
       "  <thead>\n",
       "    <tr style=\"text-align: right;\">\n",
       "      <th>Accident_Severity</th>\n",
       "      <th>Fatal</th>\n",
       "      <th>Serious</th>\n",
       "      <th>Slight</th>\n",
       "    </tr>\n",
       "    <tr>\n",
       "      <th>Vehicle_Type</th>\n",
       "      <th></th>\n",
       "      <th></th>\n",
       "      <th></th>\n",
       "    </tr>\n",
       "  </thead>\n",
       "  <tbody>\n",
       "    <tr>\n",
       "      <th>Agricultural vehicle</th>\n",
       "      <td>1.078582</td>\n",
       "      <td>14.483821</td>\n",
       "      <td>84.437596</td>\n",
       "    </tr>\n",
       "    <tr>\n",
       "      <th>Bus or coach (17 or more pass seats)</th>\n",
       "      <td>1.255893</td>\n",
       "      <td>13.034238</td>\n",
       "      <td>85.709869</td>\n",
       "    </tr>\n",
       "    <tr>\n",
       "      <th>Car</th>\n",
       "      <td>1.320704</td>\n",
       "      <td>13.345797</td>\n",
       "      <td>85.333499</td>\n",
       "    </tr>\n",
       "    <tr>\n",
       "      <th>Data missing or out of range</th>\n",
       "      <td>NaN</td>\n",
       "      <td>NaN</td>\n",
       "      <td>100.000000</td>\n",
       "    </tr>\n",
       "    <tr>\n",
       "      <th>Goods 7.5 tonnes mgw and over</th>\n",
       "      <td>1.248050</td>\n",
       "      <td>13.410759</td>\n",
       "      <td>85.341191</td>\n",
       "    </tr>\n",
       "    <tr>\n",
       "      <th>Goods over 3.5t. and under 7.5t</th>\n",
       "      <td>1.099081</td>\n",
       "      <td>14.058399</td>\n",
       "      <td>84.842520</td>\n",
       "    </tr>\n",
       "    <tr>\n",
       "      <th>Minibus (8 - 16 passenger seats)</th>\n",
       "      <td>1.467611</td>\n",
       "      <td>13.967611</td>\n",
       "      <td>84.564777</td>\n",
       "    </tr>\n",
       "    <tr>\n",
       "      <th>Motorcycle 125cc and under</th>\n",
       "      <td>1.237802</td>\n",
       "      <td>13.301460</td>\n",
       "      <td>85.460737</td>\n",
       "    </tr>\n",
       "    <tr>\n",
       "      <th>Motorcycle 50cc and under</th>\n",
       "      <td>1.249507</td>\n",
       "      <td>13.336841</td>\n",
       "      <td>85.413653</td>\n",
       "    </tr>\n",
       "    <tr>\n",
       "      <th>Motorcycle over 125cc and up to 500cc</th>\n",
       "      <td>1.371473</td>\n",
       "      <td>13.244514</td>\n",
       "      <td>85.384013</td>\n",
       "    </tr>\n",
       "    <tr>\n",
       "      <th>Motorcycle over 500cc</th>\n",
       "      <td>1.321277</td>\n",
       "      <td>13.473906</td>\n",
       "      <td>85.204817</td>\n",
       "    </tr>\n",
       "    <tr>\n",
       "      <th>Other vehicle</th>\n",
       "      <td>1.241795</td>\n",
       "      <td>13.606528</td>\n",
       "      <td>85.151676</td>\n",
       "    </tr>\n",
       "    <tr>\n",
       "      <th>Pedal cycle</th>\n",
       "      <td>3.045685</td>\n",
       "      <td>19.796954</td>\n",
       "      <td>77.157360</td>\n",
       "    </tr>\n",
       "    <tr>\n",
       "      <th>Ridden horse</th>\n",
       "      <td>NaN</td>\n",
       "      <td>NaN</td>\n",
       "      <td>100.000000</td>\n",
       "    </tr>\n",
       "    <tr>\n",
       "      <th>Taxi/Private hire car</th>\n",
       "      <td>1.165940</td>\n",
       "      <td>13.321799</td>\n",
       "      <td>85.512261</td>\n",
       "    </tr>\n",
       "    <tr>\n",
       "      <th>Van / Goods 3.5 tonnes mgw or under</th>\n",
       "      <td>1.367096</td>\n",
       "      <td>13.331382</td>\n",
       "      <td>85.301522</td>\n",
       "    </tr>\n",
       "  </tbody>\n",
       "</table>\n",
       "</div>"
      ],
      "text/plain": [
       "Accident_Severity                         Fatal    Serious      Slight\n",
       "Vehicle_Type                                                          \n",
       "Agricultural vehicle                   1.078582  14.483821   84.437596\n",
       "Bus or coach (17 or more pass seats)   1.255893  13.034238   85.709869\n",
       "Car                                    1.320704  13.345797   85.333499\n",
       "Data missing or out of range                NaN        NaN  100.000000\n",
       "Goods 7.5 tonnes mgw and over          1.248050  13.410759   85.341191\n",
       "Goods over 3.5t. and under 7.5t        1.099081  14.058399   84.842520\n",
       "Minibus (8 - 16 passenger seats)       1.467611  13.967611   84.564777\n",
       "Motorcycle 125cc and under             1.237802  13.301460   85.460737\n",
       "Motorcycle 50cc and under              1.249507  13.336841   85.413653\n",
       "Motorcycle over 125cc and up to 500cc  1.371473  13.244514   85.384013\n",
       "Motorcycle over 500cc                  1.321277  13.473906   85.204817\n",
       "Other vehicle                          1.241795  13.606528   85.151676\n",
       "Pedal cycle                            3.045685  19.796954   77.157360\n",
       "Ridden horse                                NaN        NaN  100.000000\n",
       "Taxi/Private hire car                  1.165940  13.321799   85.512261\n",
       "Van / Goods 3.5 tonnes mgw or under    1.367096  13.331382   85.301522"
      ]
     },
     "metadata": {},
     "output_type": "display_data"
    }
   ],
   "source": [
    "vehicle_severity = acci.groupby(\"Vehicle_Type\")[\"Accident_Severity\"].value_counts(normalize=True).unstack() * 100\n",
    "print(\"Accident Severity by Vehicle Type (%):\")\n",
    "display(vehicle_severity)\n"
   ]
  },
  {
   "cell_type": "markdown",
   "id": "d71c7946-026e-4161-b469-3df3c59535f3",
   "metadata": {},
   "source": [
    "<h3>motor and bikes have higher fatality rates</h3>\n",
    "<h3>Cars have more minor accidents but lower fatality rates</h3>"
   ]
  },
  {
   "cell_type": "code",
   "execution_count": null,
   "id": "822828bc-c016-45e4-8d23-bec3f75d24c8",
   "metadata": {},
   "outputs": [],
   "source": []
  },
  {
   "cell_type": "markdown",
   "id": "411886c8-549e-425f-9a22-7b900dd1cabd",
   "metadata": {},
   "source": [
    "<h1>---------------------------------------------------------------------------------</h1>"
   ]
  },
  {
   "cell_type": "markdown",
   "id": "4e9f6449-1170-4a2f-96c6-99b2a40f631c",
   "metadata": {},
   "source": [
    "<h1>Insight NO.20 - How does light conditon impact accident severity?</h1>"
   ]
  },
  {
   "cell_type": "code",
   "execution_count": null,
   "id": "8fa3fd6d-70eb-4b87-8cee-0a41632493ab",
   "metadata": {},
   "outputs": [],
   "source": []
  },
  {
   "cell_type": "code",
   "execution_count": 85,
   "id": "197b1c17-9ad1-4bd1-b6fa-c991d4737a39",
   "metadata": {},
   "outputs": [
    {
     "name": "stdout",
     "output_type": "stream",
     "text": [
      "Accident Severity by Light Condition (%):\n"
     ]
    },
    {
     "data": {
      "text/html": [
       "<div>\n",
       "<style scoped>\n",
       "    .dataframe tbody tr th:only-of-type {\n",
       "        vertical-align: middle;\n",
       "    }\n",
       "\n",
       "    .dataframe tbody tr th {\n",
       "        vertical-align: top;\n",
       "    }\n",
       "\n",
       "    .dataframe thead th {\n",
       "        text-align: right;\n",
       "    }\n",
       "</style>\n",
       "<table border=\"1\" class=\"dataframe\">\n",
       "  <thead>\n",
       "    <tr style=\"text-align: right;\">\n",
       "      <th>Accident_Severity</th>\n",
       "      <th>Fatal</th>\n",
       "      <th>Serious</th>\n",
       "      <th>Slight</th>\n",
       "    </tr>\n",
       "    <tr>\n",
       "      <th>Light_Conditions</th>\n",
       "      <th></th>\n",
       "      <th></th>\n",
       "      <th></th>\n",
       "    </tr>\n",
       "  </thead>\n",
       "  <tbody>\n",
       "    <tr>\n",
       "      <th>Darkness - lighting unknown</th>\n",
       "      <td>1.048735</td>\n",
       "      <td>12.245527</td>\n",
       "      <td>86.705737</td>\n",
       "    </tr>\n",
       "    <tr>\n",
       "      <th>Darkness - lights lit</th>\n",
       "      <td>1.438126</td>\n",
       "      <td>14.791047</td>\n",
       "      <td>83.770828</td>\n",
       "    </tr>\n",
       "    <tr>\n",
       "      <th>Darkness - lights unlit</th>\n",
       "      <td>1.769564</td>\n",
       "      <td>14.156508</td>\n",
       "      <td>84.073928</td>\n",
       "    </tr>\n",
       "    <tr>\n",
       "      <th>Darkness - no lighting</th>\n",
       "      <td>4.305901</td>\n",
       "      <td>19.162860</td>\n",
       "      <td>76.531239</td>\n",
       "    </tr>\n",
       "    <tr>\n",
       "      <th>Daylight</th>\n",
       "      <td>1.046857</td>\n",
       "      <td>12.530729</td>\n",
       "      <td>86.422414</td>\n",
       "    </tr>\n",
       "  </tbody>\n",
       "</table>\n",
       "</div>"
      ],
      "text/plain": [
       "Accident_Severity               Fatal    Serious     Slight\n",
       "Light_Conditions                                           \n",
       "Darkness - lighting unknown  1.048735  12.245527  86.705737\n",
       "Darkness - lights lit        1.438126  14.791047  83.770828\n",
       "Darkness - lights unlit      1.769564  14.156508  84.073928\n",
       "Darkness - no lighting       4.305901  19.162860  76.531239\n",
       "Daylight                     1.046857  12.530729  86.422414"
      ]
     },
     "metadata": {},
     "output_type": "display_data"
    }
   ],
   "source": [
    "light_severity = acci.groupby(\"Light_Conditions\")[\"Accident_Severity\"].value_counts(normalize=True).unstack() * 100\n",
    "print(\"Accident Severity by Light Condition (%):\")\n",
    "display(light_severity)\n"
   ]
  },
  {
   "cell_type": "markdown",
   "id": "93729ced-4c4a-4828-ab02-4d934133d189",
   "metadata": {},
   "source": [
    "<h3>dark conditons increase severity, as visibility is lower</h3>\n",
    "<h3>Most minor accidents occur during daylight</h3>"
   ]
  },
  {
   "cell_type": "code",
   "execution_count": null,
   "id": "7b8a8142-9fd7-4e24-86f7-9f6bc7c006c9",
   "metadata": {},
   "outputs": [],
   "source": []
  },
  {
   "cell_type": "code",
   "execution_count": null,
   "id": "d0ad6078-620e-4dad-b8f0-2a6e9e861be5",
   "metadata": {},
   "outputs": [],
   "source": []
  },
  {
   "cell_type": "code",
   "execution_count": null,
   "id": "3735371a-9b12-4e8c-a3df-68f82c09dcba",
   "metadata": {},
   "outputs": [],
   "source": []
  },
  {
   "cell_type": "code",
   "execution_count": null,
   "id": "b2cd8164-594d-420b-9615-ddf6302b02f6",
   "metadata": {},
   "outputs": [],
   "source": []
  },
  {
   "cell_type": "code",
   "execution_count": null,
   "id": "3fbde25d-d567-48fd-99ba-00a5ba7d3dce",
   "metadata": {},
   "outputs": [],
   "source": []
  },
  {
   "cell_type": "code",
   "execution_count": null,
   "id": "dd03937a-430f-4437-a5c2-b25f9d252ece",
   "metadata": {},
   "outputs": [],
   "source": []
  },
  {
   "cell_type": "code",
   "execution_count": null,
   "id": "782d66cb-f24f-4672-90ee-030789271ed5",
   "metadata": {},
   "outputs": [],
   "source": []
  },
  {
   "cell_type": "code",
   "execution_count": null,
   "id": "99547ad4-f1dd-4f86-ab49-6ee4c097c135",
   "metadata": {},
   "outputs": [],
   "source": []
  },
  {
   "cell_type": "code",
   "execution_count": null,
   "id": "6eb26df7-cb2f-4ecf-95b1-b03c7dd27c4e",
   "metadata": {},
   "outputs": [],
   "source": []
  },
  {
   "cell_type": "code",
   "execution_count": null,
   "id": "17fd3f2f-d091-486a-b127-06ecc1070ede",
   "metadata": {},
   "outputs": [],
   "source": []
  },
  {
   "cell_type": "code",
   "execution_count": null,
   "id": "17085dc1-e1fb-43c7-ba4f-77e31d56f875",
   "metadata": {},
   "outputs": [],
   "source": []
  },
  {
   "cell_type": "code",
   "execution_count": null,
   "id": "6f64e1d5-1f54-46db-b194-d1a1578d3fa3",
   "metadata": {},
   "outputs": [],
   "source": []
  },
  {
   "cell_type": "code",
   "execution_count": null,
   "id": "506e2b3d-0e0b-4a3b-b828-7549a104660c",
   "metadata": {},
   "outputs": [],
   "source": []
  },
  {
   "cell_type": "code",
   "execution_count": null,
   "id": "79b549a0-6e65-4c99-9c61-49e876189472",
   "metadata": {},
   "outputs": [],
   "source": []
  },
  {
   "cell_type": "code",
   "execution_count": null,
   "id": "6249b486-7119-4e09-bf2b-6f893bcb7e10",
   "metadata": {},
   "outputs": [],
   "source": []
  },
  {
   "cell_type": "code",
   "execution_count": null,
   "id": "a6c9444f-1b8e-4c7c-b577-8e47c0ef4464",
   "metadata": {},
   "outputs": [],
   "source": []
  },
  {
   "cell_type": "code",
   "execution_count": null,
   "id": "f9810c90-d6a9-4040-903a-3f8f33fe58ab",
   "metadata": {},
   "outputs": [],
   "source": []
  },
  {
   "cell_type": "code",
   "execution_count": null,
   "id": "26086fc2-a7f8-4a85-ada6-69f5f6b70bf9",
   "metadata": {},
   "outputs": [],
   "source": []
  },
  {
   "cell_type": "code",
   "execution_count": null,
   "id": "e91ccd2d-a120-4bb4-910a-a1ffed37a9f6",
   "metadata": {},
   "outputs": [],
   "source": []
  },
  {
   "cell_type": "code",
   "execution_count": null,
   "id": "124fd266-5c01-4c96-bb4c-0ce98f7b8c0f",
   "metadata": {},
   "outputs": [],
   "source": []
  },
  {
   "cell_type": "code",
   "execution_count": null,
   "id": "a517dba1-a83c-4546-97a8-43b43aefe64a",
   "metadata": {},
   "outputs": [],
   "source": []
  },
  {
   "cell_type": "code",
   "execution_count": null,
   "id": "b2cca4c3-53fb-4995-adcd-6e3044c49400",
   "metadata": {},
   "outputs": [],
   "source": []
  },
  {
   "cell_type": "code",
   "execution_count": null,
   "id": "cbf92724-6cd6-40aa-9f70-7a9f6a05d42a",
   "metadata": {},
   "outputs": [],
   "source": []
  }
 ],
 "metadata": {
  "kernelspec": {
   "display_name": "Python 3 (ipykernel)",
   "language": "python",
   "name": "python3"
  },
  "language_info": {
   "codemirror_mode": {
    "name": "ipython",
    "version": 3
   },
   "file_extension": ".py",
   "mimetype": "text/x-python",
   "name": "python",
   "nbconvert_exporter": "python",
   "pygments_lexer": "ipython3",
   "version": "3.13.1"
  }
 },
 "nbformat": 4,
 "nbformat_minor": 5
}
